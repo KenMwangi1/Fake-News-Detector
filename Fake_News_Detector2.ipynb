{
 "cells": [
  {
   "cell_type": "code",
   "execution_count": 1,
   "id": "c2125a62-00dd-4f38-a04b-da14c8f81b23",
   "metadata": {},
   "outputs": [
    {
     "name": "stdout",
     "output_type": "stream",
     "text": [
      "Requirement already satisfied: seaborn in c:\\anaconda3\\envs\\fake_news_detector\\lib\\site-packages (0.13.1)\n",
      "Requirement already satisfied: nltk in c:\\anaconda3\\envs\\fake_news_detector\\lib\\site-packages (3.8.1)\n",
      "Requirement already satisfied: scikit-learn in c:\\anaconda3\\envs\\fake_news_detector\\lib\\site-packages (1.3.2)\n",
      "Requirement already satisfied: numpy!=1.24.0,>=1.20 in c:\\anaconda3\\envs\\fake_news_detector\\lib\\site-packages (from seaborn) (1.26.2)\n",
      "Requirement already satisfied: pandas>=1.2 in c:\\anaconda3\\envs\\fake_news_detector\\lib\\site-packages (from seaborn) (2.1.4)\n",
      "Requirement already satisfied: matplotlib!=3.6.1,>=3.4 in c:\\anaconda3\\envs\\fake_news_detector\\lib\\site-packages (from seaborn) (3.8.2)\n",
      "Requirement already satisfied: click in c:\\anaconda3\\envs\\fake_news_detector\\lib\\site-packages (from nltk) (8.1.7)\n",
      "Requirement already satisfied: joblib in c:\\anaconda3\\envs\\fake_news_detector\\lib\\site-packages (from nltk) (1.3.2)\n",
      "Requirement already satisfied: regex>=2021.8.3 in c:\\anaconda3\\envs\\fake_news_detector\\lib\\site-packages (from nltk) (2023.12.25)\n",
      "Requirement already satisfied: tqdm in c:\\anaconda3\\envs\\fake_news_detector\\lib\\site-packages (from nltk) (4.66.1)\n",
      "Requirement already satisfied: scipy>=1.5.0 in c:\\anaconda3\\envs\\fake_news_detector\\lib\\site-packages (from scikit-learn) (1.11.4)\n",
      "Requirement already satisfied: threadpoolctl>=2.0.0 in c:\\anaconda3\\envs\\fake_news_detector\\lib\\site-packages (from scikit-learn) (3.2.0)\n",
      "Requirement already satisfied: contourpy>=1.0.1 in c:\\anaconda3\\envs\\fake_news_detector\\lib\\site-packages (from matplotlib!=3.6.1,>=3.4->seaborn) (1.2.0)\n",
      "Requirement already satisfied: cycler>=0.10 in c:\\anaconda3\\envs\\fake_news_detector\\lib\\site-packages (from matplotlib!=3.6.1,>=3.4->seaborn) (0.12.1)\n",
      "Requirement already satisfied: fonttools>=4.22.0 in c:\\anaconda3\\envs\\fake_news_detector\\lib\\site-packages (from matplotlib!=3.6.1,>=3.4->seaborn) (4.47.0)\n",
      "Requirement already satisfied: kiwisolver>=1.3.1 in c:\\anaconda3\\envs\\fake_news_detector\\lib\\site-packages (from matplotlib!=3.6.1,>=3.4->seaborn) (1.4.5)\n",
      "Requirement already satisfied: packaging>=20.0 in c:\\anaconda3\\envs\\fake_news_detector\\lib\\site-packages (from matplotlib!=3.6.1,>=3.4->seaborn) (23.1)\n",
      "Requirement already satisfied: pillow>=8 in c:\\anaconda3\\envs\\fake_news_detector\\lib\\site-packages (from matplotlib!=3.6.1,>=3.4->seaborn) (10.2.0)\n",
      "Requirement already satisfied: pyparsing>=2.3.1 in c:\\anaconda3\\envs\\fake_news_detector\\lib\\site-packages (from matplotlib!=3.6.1,>=3.4->seaborn) (3.1.1)\n",
      "Requirement already satisfied: python-dateutil>=2.7 in c:\\anaconda3\\envs\\fake_news_detector\\lib\\site-packages (from matplotlib!=3.6.1,>=3.4->seaborn) (2.8.2)\n",
      "Requirement already satisfied: importlib-resources>=3.2.0 in c:\\anaconda3\\envs\\fake_news_detector\\lib\\site-packages (from matplotlib!=3.6.1,>=3.4->seaborn) (6.1.1)\n",
      "Requirement already satisfied: pytz>=2020.1 in c:\\anaconda3\\envs\\fake_news_detector\\lib\\site-packages (from pandas>=1.2->seaborn) (2023.3.post1)\n",
      "Requirement already satisfied: tzdata>=2022.1 in c:\\anaconda3\\envs\\fake_news_detector\\lib\\site-packages (from pandas>=1.2->seaborn) (2023.4)\n",
      "Requirement already satisfied: colorama in c:\\anaconda3\\envs\\fake_news_detector\\lib\\site-packages (from click->nltk) (0.4.6)\n",
      "Requirement already satisfied: zipp>=3.1.0 in c:\\anaconda3\\envs\\fake_news_detector\\lib\\site-packages (from importlib-resources>=3.2.0->matplotlib!=3.6.1,>=3.4->seaborn) (3.11.0)\n",
      "Requirement already satisfied: six>=1.5 in c:\\anaconda3\\envs\\fake_news_detector\\lib\\site-packages (from python-dateutil>=2.7->matplotlib!=3.6.1,>=3.4->seaborn) (1.16.0)\n"
     ]
    }
   ],
   "source": [
    "!pip install seaborn nltk scikit-learn"
   ]
  },
  {
   "cell_type": "code",
   "execution_count": 2,
   "id": "ebd4b29a-1add-41bc-abd9-376afec25d80",
   "metadata": {},
   "outputs": [],
   "source": [
    "import pandas as pd #\n",
    "import numpy as np #\n",
    "import seaborn as sns\n",
    "from nltk.corpus import stopwords #\n",
    "from nltk.stem.porter import PorterStemmer #\n",
    "import matplotlib.pyplot as plt\n",
    "from sklearn.model_selection import train_test_split #\n",
    "from sklearn.metrics import classification_report, accuracy_score #\n",
    "import re #\n",
    "import string \n",
    "from sklearn.feature_extraction.text import TfidfVectorizer #\n",
    "from sklearn.linear_model import LogisticRegression"
   ]
  },
  {
   "cell_type": "code",
   "execution_count": 3,
   "id": "85558c80-5b4a-4bd8-965a-6e30278971ba",
   "metadata": {},
   "outputs": [],
   "source": [
    "true_df = pd.read_csv(\"https://raw.githubusercontent.com/laxmimerit/fake-real-news-dataset/main/data/True.csv\")\n",
    "fake_df = pd.read_csv(\"https://raw.githubusercontent.com/laxmimerit/fake-real-news-dataset/main/data/Fake.csv\")"
   ]
  },
  {
   "cell_type": "code",
   "execution_count": 4,
   "id": "8e318a58-6315-425c-ad7c-e8636fe575a0",
   "metadata": {},
   "outputs": [
    {
     "data": {
      "text/html": [
       "<div>\n",
       "<style scoped>\n",
       "    .dataframe tbody tr th:only-of-type {\n",
       "        vertical-align: middle;\n",
       "    }\n",
       "\n",
       "    .dataframe tbody tr th {\n",
       "        vertical-align: top;\n",
       "    }\n",
       "\n",
       "    .dataframe thead th {\n",
       "        text-align: right;\n",
       "    }\n",
       "</style>\n",
       "<table border=\"1\" class=\"dataframe\">\n",
       "  <thead>\n",
       "    <tr style=\"text-align: right;\">\n",
       "      <th></th>\n",
       "      <th>title</th>\n",
       "      <th>text</th>\n",
       "      <th>subject</th>\n",
       "      <th>date</th>\n",
       "    </tr>\n",
       "  </thead>\n",
       "  <tbody>\n",
       "    <tr>\n",
       "      <th>0</th>\n",
       "      <td>As U.S. budget fight looms, Republicans flip t...</td>\n",
       "      <td>WASHINGTON (Reuters) - The head of a conservat...</td>\n",
       "      <td>politicsNews</td>\n",
       "      <td>December 31, 2017</td>\n",
       "    </tr>\n",
       "    <tr>\n",
       "      <th>1</th>\n",
       "      <td>U.S. military to accept transgender recruits o...</td>\n",
       "      <td>WASHINGTON (Reuters) - Transgender people will...</td>\n",
       "      <td>politicsNews</td>\n",
       "      <td>December 29, 2017</td>\n",
       "    </tr>\n",
       "    <tr>\n",
       "      <th>2</th>\n",
       "      <td>Senior U.S. Republican senator: 'Let Mr. Muell...</td>\n",
       "      <td>WASHINGTON (Reuters) - The special counsel inv...</td>\n",
       "      <td>politicsNews</td>\n",
       "      <td>December 31, 2017</td>\n",
       "    </tr>\n",
       "    <tr>\n",
       "      <th>3</th>\n",
       "      <td>FBI Russia probe helped by Australian diplomat...</td>\n",
       "      <td>WASHINGTON (Reuters) - Trump campaign adviser ...</td>\n",
       "      <td>politicsNews</td>\n",
       "      <td>December 30, 2017</td>\n",
       "    </tr>\n",
       "    <tr>\n",
       "      <th>4</th>\n",
       "      <td>Trump wants Postal Service to charge 'much mor...</td>\n",
       "      <td>SEATTLE/WASHINGTON (Reuters) - President Donal...</td>\n",
       "      <td>politicsNews</td>\n",
       "      <td>December 29, 2017</td>\n",
       "    </tr>\n",
       "  </tbody>\n",
       "</table>\n",
       "</div>"
      ],
      "text/plain": [
       "                                               title  \\\n",
       "0  As U.S. budget fight looms, Republicans flip t...   \n",
       "1  U.S. military to accept transgender recruits o...   \n",
       "2  Senior U.S. Republican senator: 'Let Mr. Muell...   \n",
       "3  FBI Russia probe helped by Australian diplomat...   \n",
       "4  Trump wants Postal Service to charge 'much mor...   \n",
       "\n",
       "                                                text       subject  \\\n",
       "0  WASHINGTON (Reuters) - The head of a conservat...  politicsNews   \n",
       "1  WASHINGTON (Reuters) - Transgender people will...  politicsNews   \n",
       "2  WASHINGTON (Reuters) - The special counsel inv...  politicsNews   \n",
       "3  WASHINGTON (Reuters) - Trump campaign adviser ...  politicsNews   \n",
       "4  SEATTLE/WASHINGTON (Reuters) - President Donal...  politicsNews   \n",
       "\n",
       "                 date  \n",
       "0  December 31, 2017   \n",
       "1  December 29, 2017   \n",
       "2  December 31, 2017   \n",
       "3  December 30, 2017   \n",
       "4  December 29, 2017   "
      ]
     },
     "execution_count": 4,
     "metadata": {},
     "output_type": "execute_result"
    }
   ],
   "source": [
    "true_df.head() "
   ]
  },
  {
   "cell_type": "code",
   "execution_count": 5,
   "id": "612c9f1a-60d1-4c52-b5d1-5c4c468ab38d",
   "metadata": {},
   "outputs": [
    {
     "data": {
      "text/html": [
       "<div>\n",
       "<style scoped>\n",
       "    .dataframe tbody tr th:only-of-type {\n",
       "        vertical-align: middle;\n",
       "    }\n",
       "\n",
       "    .dataframe tbody tr th {\n",
       "        vertical-align: top;\n",
       "    }\n",
       "\n",
       "    .dataframe thead th {\n",
       "        text-align: right;\n",
       "    }\n",
       "</style>\n",
       "<table border=\"1\" class=\"dataframe\">\n",
       "  <thead>\n",
       "    <tr style=\"text-align: right;\">\n",
       "      <th></th>\n",
       "      <th>title</th>\n",
       "      <th>text</th>\n",
       "      <th>subject</th>\n",
       "      <th>date</th>\n",
       "    </tr>\n",
       "  </thead>\n",
       "  <tbody>\n",
       "    <tr>\n",
       "      <th>0</th>\n",
       "      <td>Donald Trump Sends Out Embarrassing New Year’...</td>\n",
       "      <td>Donald Trump just couldn t wish all Americans ...</td>\n",
       "      <td>News</td>\n",
       "      <td>December 31, 2017</td>\n",
       "    </tr>\n",
       "    <tr>\n",
       "      <th>1</th>\n",
       "      <td>Drunk Bragging Trump Staffer Started Russian ...</td>\n",
       "      <td>House Intelligence Committee Chairman Devin Nu...</td>\n",
       "      <td>News</td>\n",
       "      <td>December 31, 2017</td>\n",
       "    </tr>\n",
       "    <tr>\n",
       "      <th>2</th>\n",
       "      <td>Sheriff David Clarke Becomes An Internet Joke...</td>\n",
       "      <td>On Friday, it was revealed that former Milwauk...</td>\n",
       "      <td>News</td>\n",
       "      <td>December 30, 2017</td>\n",
       "    </tr>\n",
       "    <tr>\n",
       "      <th>3</th>\n",
       "      <td>Trump Is So Obsessed He Even Has Obama’s Name...</td>\n",
       "      <td>On Christmas day, Donald Trump announced that ...</td>\n",
       "      <td>News</td>\n",
       "      <td>December 29, 2017</td>\n",
       "    </tr>\n",
       "    <tr>\n",
       "      <th>4</th>\n",
       "      <td>Pope Francis Just Called Out Donald Trump Dur...</td>\n",
       "      <td>Pope Francis used his annual Christmas Day mes...</td>\n",
       "      <td>News</td>\n",
       "      <td>December 25, 2017</td>\n",
       "    </tr>\n",
       "  </tbody>\n",
       "</table>\n",
       "</div>"
      ],
      "text/plain": [
       "                                               title  \\\n",
       "0   Donald Trump Sends Out Embarrassing New Year’...   \n",
       "1   Drunk Bragging Trump Staffer Started Russian ...   \n",
       "2   Sheriff David Clarke Becomes An Internet Joke...   \n",
       "3   Trump Is So Obsessed He Even Has Obama’s Name...   \n",
       "4   Pope Francis Just Called Out Donald Trump Dur...   \n",
       "\n",
       "                                                text subject  \\\n",
       "0  Donald Trump just couldn t wish all Americans ...    News   \n",
       "1  House Intelligence Committee Chairman Devin Nu...    News   \n",
       "2  On Friday, it was revealed that former Milwauk...    News   \n",
       "3  On Christmas day, Donald Trump announced that ...    News   \n",
       "4  Pope Francis used his annual Christmas Day mes...    News   \n",
       "\n",
       "                date  \n",
       "0  December 31, 2017  \n",
       "1  December 31, 2017  \n",
       "2  December 30, 2017  \n",
       "3  December 29, 2017  \n",
       "4  December 25, 2017  "
      ]
     },
     "execution_count": 5,
     "metadata": {},
     "output_type": "execute_result"
    }
   ],
   "source": [
    "fake_df.head()"
   ]
  },
  {
   "cell_type": "code",
   "execution_count": 6,
   "id": "4250304e-32ea-4bd1-a521-9db54e5b6293",
   "metadata": {},
   "outputs": [
    {
     "data": {
      "text/plain": [
       "((23481, 4), (21417, 4))"
      ]
     },
     "execution_count": 6,
     "metadata": {},
     "output_type": "execute_result"
    }
   ],
   "source": [
    "fake_df.shape, true_df.shape"
   ]
  },
  {
   "cell_type": "code",
   "execution_count": 7,
   "id": "9f93367e-ed0e-4628-9cb6-e78ef8301697",
   "metadata": {},
   "outputs": [],
   "source": [
    "fake_df[\"class\"] = 0\n",
    "true_df[\"class\"] = 1"
   ]
  },
  {
   "cell_type": "code",
   "execution_count": 8,
   "id": "35631b22-5245-49b8-b4c9-d0e535c9e94d",
   "metadata": {},
   "outputs": [
    {
     "data": {
      "text/plain": [
       "((23481, 5), (21417, 5))"
      ]
     },
     "execution_count": 8,
     "metadata": {},
     "output_type": "execute_result"
    }
   ],
   "source": [
    "fake_df.shape, true_df.shape"
   ]
  },
  {
   "cell_type": "code",
   "execution_count": 9,
   "id": "f7cd03aa-ab8c-4f22-bda8-8b20bd08853e",
   "metadata": {},
   "outputs": [
    {
     "data": {
      "text/html": [
       "<div>\n",
       "<style scoped>\n",
       "    .dataframe tbody tr th:only-of-type {\n",
       "        vertical-align: middle;\n",
       "    }\n",
       "\n",
       "    .dataframe tbody tr th {\n",
       "        vertical-align: top;\n",
       "    }\n",
       "\n",
       "    .dataframe thead th {\n",
       "        text-align: right;\n",
       "    }\n",
       "</style>\n",
       "<table border=\"1\" class=\"dataframe\">\n",
       "  <thead>\n",
       "    <tr style=\"text-align: right;\">\n",
       "      <th></th>\n",
       "      <th>title</th>\n",
       "      <th>text</th>\n",
       "      <th>subject</th>\n",
       "      <th>date</th>\n",
       "      <th>class</th>\n",
       "    </tr>\n",
       "  </thead>\n",
       "  <tbody>\n",
       "    <tr>\n",
       "      <th>0</th>\n",
       "      <td>Donald Trump Sends Out Embarrassing New Year’...</td>\n",
       "      <td>Donald Trump just couldn t wish all Americans ...</td>\n",
       "      <td>News</td>\n",
       "      <td>December 31, 2017</td>\n",
       "      <td>0</td>\n",
       "    </tr>\n",
       "    <tr>\n",
       "      <th>1</th>\n",
       "      <td>Drunk Bragging Trump Staffer Started Russian ...</td>\n",
       "      <td>House Intelligence Committee Chairman Devin Nu...</td>\n",
       "      <td>News</td>\n",
       "      <td>December 31, 2017</td>\n",
       "      <td>0</td>\n",
       "    </tr>\n",
       "    <tr>\n",
       "      <th>2</th>\n",
       "      <td>Sheriff David Clarke Becomes An Internet Joke...</td>\n",
       "      <td>On Friday, it was revealed that former Milwauk...</td>\n",
       "      <td>News</td>\n",
       "      <td>December 30, 2017</td>\n",
       "      <td>0</td>\n",
       "    </tr>\n",
       "    <tr>\n",
       "      <th>3</th>\n",
       "      <td>Trump Is So Obsessed He Even Has Obama’s Name...</td>\n",
       "      <td>On Christmas day, Donald Trump announced that ...</td>\n",
       "      <td>News</td>\n",
       "      <td>December 29, 2017</td>\n",
       "      <td>0</td>\n",
       "    </tr>\n",
       "    <tr>\n",
       "      <th>4</th>\n",
       "      <td>Pope Francis Just Called Out Donald Trump Dur...</td>\n",
       "      <td>Pope Francis used his annual Christmas Day mes...</td>\n",
       "      <td>News</td>\n",
       "      <td>December 25, 2017</td>\n",
       "      <td>0</td>\n",
       "    </tr>\n",
       "  </tbody>\n",
       "</table>\n",
       "</div>"
      ],
      "text/plain": [
       "                                               title  \\\n",
       "0   Donald Trump Sends Out Embarrassing New Year’...   \n",
       "1   Drunk Bragging Trump Staffer Started Russian ...   \n",
       "2   Sheriff David Clarke Becomes An Internet Joke...   \n",
       "3   Trump Is So Obsessed He Even Has Obama’s Name...   \n",
       "4   Pope Francis Just Called Out Donald Trump Dur...   \n",
       "\n",
       "                                                text subject  \\\n",
       "0  Donald Trump just couldn t wish all Americans ...    News   \n",
       "1  House Intelligence Committee Chairman Devin Nu...    News   \n",
       "2  On Friday, it was revealed that former Milwauk...    News   \n",
       "3  On Christmas day, Donald Trump announced that ...    News   \n",
       "4  Pope Francis used his annual Christmas Day mes...    News   \n",
       "\n",
       "                date  class  \n",
       "0  December 31, 2017      0  \n",
       "1  December 31, 2017      0  \n",
       "2  December 30, 2017      0  \n",
       "3  December 29, 2017      0  \n",
       "4  December 25, 2017      0  "
      ]
     },
     "execution_count": 9,
     "metadata": {},
     "output_type": "execute_result"
    }
   ],
   "source": [
    "news_df =pd.concat([fake_df,true_df], axis = 0)\n",
    "news_df.head()"
   ]
  },
  {
   "cell_type": "code",
   "execution_count": 10,
   "id": "5358348f-4a48-4d0e-ab65-af4f2192cbf4",
   "metadata": {},
   "outputs": [
    {
     "data": {
      "text/plain": [
       "Index(['title', 'text', 'subject', 'date', 'class'], dtype='object')"
      ]
     },
     "execution_count": 10,
     "metadata": {},
     "output_type": "execute_result"
    }
   ],
   "source": [
    "news_df.columns"
   ]
  },
  {
   "cell_type": "code",
   "execution_count": 11,
   "id": "31449f2a-4ff2-4db1-a888-c67b40deea04",
   "metadata": {},
   "outputs": [],
   "source": [
    "### news_df = pd.read_csv(r\"C:\\Users\\Ken\\Desktop\\My Learning\\Portfolio Projects\\Fake News Detector\\fake-news\\train.csv\")"
   ]
  },
  {
   "cell_type": "code",
   "execution_count": 12,
   "id": "58d4ef97-d8f1-43d6-91b8-689fafa08013",
   "metadata": {},
   "outputs": [
    {
     "data": {
      "text/html": [
       "<div>\n",
       "<style scoped>\n",
       "    .dataframe tbody tr th:only-of-type {\n",
       "        vertical-align: middle;\n",
       "    }\n",
       "\n",
       "    .dataframe tbody tr th {\n",
       "        vertical-align: top;\n",
       "    }\n",
       "\n",
       "    .dataframe thead th {\n",
       "        text-align: right;\n",
       "    }\n",
       "</style>\n",
       "<table border=\"1\" class=\"dataframe\">\n",
       "  <thead>\n",
       "    <tr style=\"text-align: right;\">\n",
       "      <th></th>\n",
       "      <th>title</th>\n",
       "      <th>text</th>\n",
       "      <th>subject</th>\n",
       "      <th>date</th>\n",
       "      <th>class</th>\n",
       "    </tr>\n",
       "  </thead>\n",
       "  <tbody>\n",
       "    <tr>\n",
       "      <th>0</th>\n",
       "      <td>Donald Trump Sends Out Embarrassing New Year’...</td>\n",
       "      <td>Donald Trump just couldn t wish all Americans ...</td>\n",
       "      <td>News</td>\n",
       "      <td>December 31, 2017</td>\n",
       "      <td>0</td>\n",
       "    </tr>\n",
       "    <tr>\n",
       "      <th>1</th>\n",
       "      <td>Drunk Bragging Trump Staffer Started Russian ...</td>\n",
       "      <td>House Intelligence Committee Chairman Devin Nu...</td>\n",
       "      <td>News</td>\n",
       "      <td>December 31, 2017</td>\n",
       "      <td>0</td>\n",
       "    </tr>\n",
       "    <tr>\n",
       "      <th>2</th>\n",
       "      <td>Sheriff David Clarke Becomes An Internet Joke...</td>\n",
       "      <td>On Friday, it was revealed that former Milwauk...</td>\n",
       "      <td>News</td>\n",
       "      <td>December 30, 2017</td>\n",
       "      <td>0</td>\n",
       "    </tr>\n",
       "    <tr>\n",
       "      <th>3</th>\n",
       "      <td>Trump Is So Obsessed He Even Has Obama’s Name...</td>\n",
       "      <td>On Christmas day, Donald Trump announced that ...</td>\n",
       "      <td>News</td>\n",
       "      <td>December 29, 2017</td>\n",
       "      <td>0</td>\n",
       "    </tr>\n",
       "    <tr>\n",
       "      <th>4</th>\n",
       "      <td>Pope Francis Just Called Out Donald Trump Dur...</td>\n",
       "      <td>Pope Francis used his annual Christmas Day mes...</td>\n",
       "      <td>News</td>\n",
       "      <td>December 25, 2017</td>\n",
       "      <td>0</td>\n",
       "    </tr>\n",
       "  </tbody>\n",
       "</table>\n",
       "</div>"
      ],
      "text/plain": [
       "                                               title  \\\n",
       "0   Donald Trump Sends Out Embarrassing New Year’...   \n",
       "1   Drunk Bragging Trump Staffer Started Russian ...   \n",
       "2   Sheriff David Clarke Becomes An Internet Joke...   \n",
       "3   Trump Is So Obsessed He Even Has Obama’s Name...   \n",
       "4   Pope Francis Just Called Out Donald Trump Dur...   \n",
       "\n",
       "                                                text subject  \\\n",
       "0  Donald Trump just couldn t wish all Americans ...    News   \n",
       "1  House Intelligence Committee Chairman Devin Nu...    News   \n",
       "2  On Friday, it was revealed that former Milwauk...    News   \n",
       "3  On Christmas day, Donald Trump announced that ...    News   \n",
       "4  Pope Francis used his annual Christmas Day mes...    News   \n",
       "\n",
       "                date  class  \n",
       "0  December 31, 2017      0  \n",
       "1  December 31, 2017      0  \n",
       "2  December 30, 2017      0  \n",
       "3  December 29, 2017      0  \n",
       "4  December 25, 2017      0  "
      ]
     },
     "execution_count": 12,
     "metadata": {},
     "output_type": "execute_result"
    }
   ],
   "source": [
    "news_df.head()"
   ]
  },
  {
   "cell_type": "code",
   "execution_count": 13,
   "id": "e00520c9-cdd2-420e-b470-6c8dce4e08a0",
   "metadata": {},
   "outputs": [
    {
     "data": {
      "text/plain": [
       "(44898, 5)"
      ]
     },
     "execution_count": 13,
     "metadata": {},
     "output_type": "execute_result"
    }
   ],
   "source": [
    "news_df.shape"
   ]
  },
  {
   "cell_type": "code",
   "execution_count": 14,
   "id": "e179b7bb-4b3a-46ef-8152-cebd2ae7d25a",
   "metadata": {},
   "outputs": [
    {
     "data": {
      "text/plain": [
       "title      0\n",
       "text       0\n",
       "subject    0\n",
       "date       0\n",
       "class      0\n",
       "dtype: int64"
      ]
     },
     "execution_count": 14,
     "metadata": {},
     "output_type": "execute_result"
    }
   ],
   "source": [
    "news_df.isna().sum()"
   ]
  },
  {
   "cell_type": "code",
   "execution_count": 15,
   "id": "9522c6d8-53ad-4070-958e-d3fdc2245619",
   "metadata": {},
   "outputs": [],
   "source": [
    "news_df = news_df.fillna(\" \")"
   ]
  },
  {
   "cell_type": "code",
   "execution_count": 16,
   "id": "51e71bd0-928b-4f82-9f63-66c24f8874a3",
   "metadata": {},
   "outputs": [
    {
     "data": {
      "text/plain": [
       "title      0\n",
       "text       0\n",
       "subject    0\n",
       "date       0\n",
       "class      0\n",
       "dtype: int64"
      ]
     },
     "execution_count": 16,
     "metadata": {},
     "output_type": "execute_result"
    }
   ],
   "source": [
    "news_df.isna().sum()"
   ]
  },
  {
   "cell_type": "code",
   "execution_count": 17,
   "id": "8a109624-79eb-463a-9633-c26114b3ba11",
   "metadata": {},
   "outputs": [],
   "source": [
    "news_df['content'] = news_df['title']+\" \"+news_df['text']"
   ]
  },
  {
   "cell_type": "code",
   "execution_count": 18,
   "id": "0033faf4-5bb9-4b5d-a1f9-f961273aef54",
   "metadata": {},
   "outputs": [
    {
     "data": {
      "text/html": [
       "<div>\n",
       "<style scoped>\n",
       "    .dataframe tbody tr th:only-of-type {\n",
       "        vertical-align: middle;\n",
       "    }\n",
       "\n",
       "    .dataframe tbody tr th {\n",
       "        vertical-align: top;\n",
       "    }\n",
       "\n",
       "    .dataframe thead th {\n",
       "        text-align: right;\n",
       "    }\n",
       "</style>\n",
       "<table border=\"1\" class=\"dataframe\">\n",
       "  <thead>\n",
       "    <tr style=\"text-align: right;\">\n",
       "      <th></th>\n",
       "      <th>title</th>\n",
       "      <th>text</th>\n",
       "      <th>subject</th>\n",
       "      <th>date</th>\n",
       "      <th>class</th>\n",
       "      <th>content</th>\n",
       "    </tr>\n",
       "  </thead>\n",
       "  <tbody>\n",
       "    <tr>\n",
       "      <th>0</th>\n",
       "      <td>Donald Trump Sends Out Embarrassing New Year’...</td>\n",
       "      <td>Donald Trump just couldn t wish all Americans ...</td>\n",
       "      <td>News</td>\n",
       "      <td>December 31, 2017</td>\n",
       "      <td>0</td>\n",
       "      <td>Donald Trump Sends Out Embarrassing New Year’...</td>\n",
       "    </tr>\n",
       "    <tr>\n",
       "      <th>1</th>\n",
       "      <td>Drunk Bragging Trump Staffer Started Russian ...</td>\n",
       "      <td>House Intelligence Committee Chairman Devin Nu...</td>\n",
       "      <td>News</td>\n",
       "      <td>December 31, 2017</td>\n",
       "      <td>0</td>\n",
       "      <td>Drunk Bragging Trump Staffer Started Russian ...</td>\n",
       "    </tr>\n",
       "    <tr>\n",
       "      <th>2</th>\n",
       "      <td>Sheriff David Clarke Becomes An Internet Joke...</td>\n",
       "      <td>On Friday, it was revealed that former Milwauk...</td>\n",
       "      <td>News</td>\n",
       "      <td>December 30, 2017</td>\n",
       "      <td>0</td>\n",
       "      <td>Sheriff David Clarke Becomes An Internet Joke...</td>\n",
       "    </tr>\n",
       "    <tr>\n",
       "      <th>3</th>\n",
       "      <td>Trump Is So Obsessed He Even Has Obama’s Name...</td>\n",
       "      <td>On Christmas day, Donald Trump announced that ...</td>\n",
       "      <td>News</td>\n",
       "      <td>December 29, 2017</td>\n",
       "      <td>0</td>\n",
       "      <td>Trump Is So Obsessed He Even Has Obama’s Name...</td>\n",
       "    </tr>\n",
       "    <tr>\n",
       "      <th>4</th>\n",
       "      <td>Pope Francis Just Called Out Donald Trump Dur...</td>\n",
       "      <td>Pope Francis used his annual Christmas Day mes...</td>\n",
       "      <td>News</td>\n",
       "      <td>December 25, 2017</td>\n",
       "      <td>0</td>\n",
       "      <td>Pope Francis Just Called Out Donald Trump Dur...</td>\n",
       "    </tr>\n",
       "  </tbody>\n",
       "</table>\n",
       "</div>"
      ],
      "text/plain": [
       "                                               title  \\\n",
       "0   Donald Trump Sends Out Embarrassing New Year’...   \n",
       "1   Drunk Bragging Trump Staffer Started Russian ...   \n",
       "2   Sheriff David Clarke Becomes An Internet Joke...   \n",
       "3   Trump Is So Obsessed He Even Has Obama’s Name...   \n",
       "4   Pope Francis Just Called Out Donald Trump Dur...   \n",
       "\n",
       "                                                text subject  \\\n",
       "0  Donald Trump just couldn t wish all Americans ...    News   \n",
       "1  House Intelligence Committee Chairman Devin Nu...    News   \n",
       "2  On Friday, it was revealed that former Milwauk...    News   \n",
       "3  On Christmas day, Donald Trump announced that ...    News   \n",
       "4  Pope Francis used his annual Christmas Day mes...    News   \n",
       "\n",
       "                date  class                                            content  \n",
       "0  December 31, 2017      0   Donald Trump Sends Out Embarrassing New Year’...  \n",
       "1  December 31, 2017      0   Drunk Bragging Trump Staffer Started Russian ...  \n",
       "2  December 30, 2017      0   Sheriff David Clarke Becomes An Internet Joke...  \n",
       "3  December 29, 2017      0   Trump Is So Obsessed He Even Has Obama’s Name...  \n",
       "4  December 25, 2017      0   Pope Francis Just Called Out Donald Trump Dur...  "
      ]
     },
     "execution_count": 18,
     "metadata": {},
     "output_type": "execute_result"
    }
   ],
   "source": [
    "news_df.head()"
   ]
  },
  {
   "cell_type": "code",
   "execution_count": 19,
   "id": "573066d8-b5c3-482d-bad3-ce9e00d8e946",
   "metadata": {},
   "outputs": [],
   "source": [
    "news_df=news_df.sample(frac=1)"
   ]
  },
  {
   "cell_type": "code",
   "execution_count": 20,
   "id": "78518b6d-ecd5-47ed-a6be-cb19c3ee7082",
   "metadata": {},
   "outputs": [
    {
     "data": {
      "text/html": [
       "<div>\n",
       "<style scoped>\n",
       "    .dataframe tbody tr th:only-of-type {\n",
       "        vertical-align: middle;\n",
       "    }\n",
       "\n",
       "    .dataframe tbody tr th {\n",
       "        vertical-align: top;\n",
       "    }\n",
       "\n",
       "    .dataframe thead th {\n",
       "        text-align: right;\n",
       "    }\n",
       "</style>\n",
       "<table border=\"1\" class=\"dataframe\">\n",
       "  <thead>\n",
       "    <tr style=\"text-align: right;\">\n",
       "      <th></th>\n",
       "      <th>title</th>\n",
       "      <th>text</th>\n",
       "      <th>subject</th>\n",
       "      <th>date</th>\n",
       "      <th>class</th>\n",
       "      <th>content</th>\n",
       "    </tr>\n",
       "  </thead>\n",
       "  <tbody>\n",
       "    <tr>\n",
       "      <th>16815</th>\n",
       "      <td>Australia to tighten airport security further ...</td>\n",
       "      <td>SYDNEY (Reuters) - Australia will introduce ra...</td>\n",
       "      <td>worldnews</td>\n",
       "      <td>October 22, 2017</td>\n",
       "      <td>1</td>\n",
       "      <td>Australia to tighten airport security further ...</td>\n",
       "    </tr>\n",
       "    <tr>\n",
       "      <th>10902</th>\n",
       "      <td>Michigan treasurer calls for quick action on D...</td>\n",
       "      <td>(Reuters) - Michigan Treasurer Nick Khouri urg...</td>\n",
       "      <td>politicsNews</td>\n",
       "      <td>February 9, 2016</td>\n",
       "      <td>1</td>\n",
       "      <td>Michigan treasurer calls for quick action on D...</td>\n",
       "    </tr>\n",
       "    <tr>\n",
       "      <th>11868</th>\n",
       "      <td>SOCIALIST Bernie Sanders Asks Trump’s Pick For...</td>\n",
       "      <td>Besty Devos is Trump s conservative choice for...</td>\n",
       "      <td>politics</td>\n",
       "      <td>Jan 18, 2017</td>\n",
       "      <td>0</td>\n",
       "      <td>SOCIALIST Bernie Sanders Asks Trump’s Pick For...</td>\n",
       "    </tr>\n",
       "    <tr>\n",
       "      <th>12492</th>\n",
       "      <td>JUST EXPOSED: Clinton Broke “Ethics Agreement”...</td>\n",
       "      <td>The Clinton Foundation has confirmed it accept...</td>\n",
       "      <td>politics</td>\n",
       "      <td>Nov 5, 2016</td>\n",
       "      <td>0</td>\n",
       "      <td>JUST EXPOSED: Clinton Broke “Ethics Agreement”...</td>\n",
       "    </tr>\n",
       "    <tr>\n",
       "      <th>2107</th>\n",
       "      <td>Bannon departure tips trade scales in favor of...</td>\n",
       "      <td>WASHINGTON (Reuters) - The departure on Friday...</td>\n",
       "      <td>politicsNews</td>\n",
       "      <td>August 18, 2017</td>\n",
       "      <td>1</td>\n",
       "      <td>Bannon departure tips trade scales in favor of...</td>\n",
       "    </tr>\n",
       "  </tbody>\n",
       "</table>\n",
       "</div>"
      ],
      "text/plain": [
       "                                                   title  \\\n",
       "16815  Australia to tighten airport security further ...   \n",
       "10902  Michigan treasurer calls for quick action on D...   \n",
       "11868  SOCIALIST Bernie Sanders Asks Trump’s Pick For...   \n",
       "12492  JUST EXPOSED: Clinton Broke “Ethics Agreement”...   \n",
       "2107   Bannon departure tips trade scales in favor of...   \n",
       "\n",
       "                                                    text       subject  \\\n",
       "16815  SYDNEY (Reuters) - Australia will introduce ra...     worldnews   \n",
       "10902  (Reuters) - Michigan Treasurer Nick Khouri urg...  politicsNews   \n",
       "11868  Besty Devos is Trump s conservative choice for...      politics   \n",
       "12492  The Clinton Foundation has confirmed it accept...      politics   \n",
       "2107   WASHINGTON (Reuters) - The departure on Friday...  politicsNews   \n",
       "\n",
       "                    date  class  \\\n",
       "16815  October 22, 2017       1   \n",
       "10902  February 9, 2016       1   \n",
       "11868       Jan 18, 2017      0   \n",
       "12492        Nov 5, 2016      0   \n",
       "2107    August 18, 2017       1   \n",
       "\n",
       "                                                 content  \n",
       "16815  Australia to tighten airport security further ...  \n",
       "10902  Michigan treasurer calls for quick action on D...  \n",
       "11868  SOCIALIST Bernie Sanders Asks Trump’s Pick For...  \n",
       "12492  JUST EXPOSED: Clinton Broke “Ethics Agreement”...  \n",
       "2107   Bannon departure tips trade scales in favor of...  "
      ]
     },
     "execution_count": 20,
     "metadata": {},
     "output_type": "execute_result"
    }
   ],
   "source": [
    "news_df.head()"
   ]
  },
  {
   "cell_type": "code",
   "execution_count": 21,
   "id": "f0bd831d-b49d-4240-a4ae-4a9b3774cd55",
   "metadata": {},
   "outputs": [],
   "source": [
    "ps = PorterStemmer()\n",
    "\n",
    "def stemming(content):\n",
    "    stemmed_content = re.sub('[^a-zA-Z]',\" \",content)\n",
    "    stemmed_content = stemmed_content.lower()\n",
    "    stemmed_content = stemmed_content.split()\n",
    "    stemmed_content = [ps.stem(word) for word in stemmed_content if not word in stopwords.words('english')]\n",
    "    stemmed_content = \" \".join(stemmed_content)\n",
    "    return stemmed_content"
   ]
  },
  {
   "cell_type": "code",
   "execution_count": 22,
   "id": "5f9af789-7487-401c-83ab-f86e2e7338f8",
   "metadata": {},
   "outputs": [],
   "source": [
    "news_df['content'] = news_df['content'].apply(stemming)"
   ]
  },
  {
   "cell_type": "code",
   "execution_count": 23,
   "id": "83c6b3a7-f9fc-4086-b64f-0013d500c438",
   "metadata": {},
   "outputs": [
    {
     "data": {
      "text/plain": [
       "16815    australia tighten airport secur foil attack sy...\n",
       "10902    michigan treasur call quick action detroit sch...\n",
       "11868    socialist berni sander ask trump pick educ sec...\n",
       "12492    expos clinton broke ethic agreement latest bom...\n",
       "2107     bannon departur tip trade scale favor white ho...\n",
       "Name: content, dtype: object"
      ]
     },
     "execution_count": 23,
     "metadata": {},
     "output_type": "execute_result"
    }
   ],
   "source": [
    "news_df['content'].head()"
   ]
  },
  {
   "cell_type": "code",
   "execution_count": 24,
   "id": "69c3fb70-6162-4b99-975c-d1d342502388",
   "metadata": {},
   "outputs": [
    {
     "data": {
      "text/plain": [
       "16815    australia tighten airport secur foil attack sy...\n",
       "10902    michigan treasur call quick action detroit sch...\n",
       "11868    socialist berni sander ask trump pick educ sec...\n",
       "12492    expos clinton broke ethic agreement latest bom...\n",
       "2107     bannon departur tip trade scale favor white ho...\n",
       "                               ...                        \n",
       "16091    brilliant lt col toni shaffer trump fight back...\n",
       "21900    break video colorado baker refus make cake ant...\n",
       "12738    million fraudul invalid voter registr alreadi ...\n",
       "14817    bombshel new evid show hillari ignor pentagon ...\n",
       "21643    break megyn kelli interview parent fake black ...\n",
       "Name: content, Length: 44898, dtype: object"
      ]
     },
     "execution_count": 24,
     "metadata": {},
     "output_type": "execute_result"
    }
   ],
   "source": [
    "news_df['content']"
   ]
  },
  {
   "cell_type": "code",
   "execution_count": 26,
   "id": "cfcded38-9d9e-4875-be22-4d39d89a1eb4",
   "metadata": {},
   "outputs": [],
   "source": [
    "X = news_df['content'].values\n",
    "y = news_df['class'].values"
   ]
  },
  {
   "cell_type": "code",
   "execution_count": 27,
   "id": "81b86fdc-ca0d-4f65-98b2-8bdab356d1f5",
   "metadata": {},
   "outputs": [
    {
     "name": "stdout",
     "output_type": "stream",
     "text": [
      "['australia tighten airport secur foil attack sydney reuter australia introduc random search worker enter insid airport increas secur recent foil terror plot offici said measur strengthen exist control ensur airport worker author properli identifi appropri train enter secur airsid area minist infrastructur transport darren chester said statement sunday may also subject secur screen cours duti airport secur tighten juli polic foil islam inspir plan bomb attack emir flight sydney polic said arrest four men citi wide raid juli one day earlier allegedli tri bring improvis explos devic flight devic allow aboard exceed baggag weight limit extra screen hand check luggag sinc incid led travel delay around countri measur obviou public prime minist malcolm turnbul said time council australian govern earlier month sign facial biometr agreement give state feder polic real time access passport visa citizenship driver licens imag crimin investig includ involv suspect terrorist prime minist deni agreement big brother style mass surveil logic next step altern use data told abc program infrastructur minist offic respond sunday ask latest measur would take effect said would roll provid flexibl airport ensur continu function effici effect'\n",
      " 'michigan treasur call quick action detroit school bill reuter michigan treasur nick khouri urg state lawmak tuesday move quickli legisl restructur financi ail detroit public school dp district run money sometim spring earli summer unless legisl pass form district abl make payrol abl pay vendor essenti cash khouri told michigan senat govern oper committe committe hold hear month bill support republican governor rick snyder creat two entiti detroit commun district run school current detroit public school retir debt khouri said legisl present better option dp michigan bankruptci would make sens given much district debt owe state ad bankruptci could also take year cost much million unlik citi detroit bankruptci dp file would put state hook billion year pay bond issu dp michigan school bond loan fund accord written testimoni khouri submit committe governor plan new commun school district would provid million addit state fund year offset local properti tax would tap old district pay debt anoth million dp pension debt could shift onto school district state wide teacher retir system detroit exit biggest ever municip bankruptci decemb shed billion billion debt senat committe continu hear legisl next week also heard teacher union offici parent contend michigan respons pay debt accumul dp sinc place state oversight also call elect board control school legisl would creat financi oversight commiss district'\n",
      " 'socialist berni sander ask trump pick educ sec agre free colleg get embarrass public smack video besti devo trump conserv choic educ secretari confirm process leftist berni sander import question absolut noth provid kid best educ possibl sander one burn question betsi devo els give american someth free betsi devo answer berni perfect'\n",
      " ...\n",
      " 'million fraudul invalid voter registr alreadi found sara sosa die cast ballot week liber repeat frequent claim voter fraud exist recent salon articl argu voter fraud problem pennsylvania despit evid contrari anoth articl argu voter fraud entir imagin use voter id law deni minor right vote yet elect approach case voter fraud begin surfac colorado multipl instanc found dead peopl attempt vote stunningli woman name sara sosa die cast ballot virginia found nearli voter applic turn name dead peopl texa author investig crimin use techniqu vote harvest illeg procur vote candid harvest practic illeg obtain signatur valid voter order vote name without consent candid crimin support instanc voter fraud know would silli assum case discov case fraud inde accord pew research report februari one eight voter registr significantli inaccur longer valid sinc million american regist vote translat stun million invalid voter registr book million deceas individu list voter approxim million peopl registr one state number scale obvious provid ripe opportun fraud let data contradict narr yet spite report brennan center new york univers claim voter fraud myth argu north carolina pass comprehens measur prevent voter fraud fail identifi even singl individu ever charg commit person voter fraud north carolina howev faulti reason point lack person voter fraud rather lack enforc mechan identifi prosecut person voter fraud scienc crimin justic tell us mani crime go unreport victimless crime happen fact person attempt commit voter fraud unlik caught increas incent commit crime nation crime victim survey ncv sophist comprehens effort catalog number type crime report law enforc author howev tend deal mostli violent crime complex ncv gather accur data unreport victimless crime voter fraud even harder sinc outsid crimin one may know crime taken place direct victim report crime first place yet expect believ unlik violent crime voter fraud limit case actual report prosecut senseless posit brennan center report argu prosecutor kri kobach review million vote cast state found instanc fraud refer prosecut amount percent fraud rate voter fraud statist small non issu let follow logic fact peopl cite jaywalk seattl mean peopl jaywalk seattl year fact peopl cite drive without seatbelt tennesse mean mani peopl drive without seatbelt tennesse absolut proven easili previou year peopl cite dispar larg due increas enforc effort word increas enforc crime reveal much larger number peopl commit crime exact true voter fraud reason believ low number prosecut mean exact amount voter fraud happen rather could mean lack enforc fail reveal bulk violat occur thu mani type crime especi victimless crime real number case like significantli higher number report effect target voter fraud know voter fraud seriou issu solut problem state like michigan poll challeng program observ parti may present voter check tabl precinct check voter id databas regist voter precinct ensur person attempt vote actual legal qualifi vote precinct discrep poll challeng may offici challeng ballot state implement similar program read fox'\n",
      " 'bombshel new evid show hillari ignor pentagon urgent offer help benghazi consul video hillari lie time import e mail recent obtain judici watch show pentagon demand secretari state hillari clinton allow send help benghazi attack would complet contradict claim hillari leon panetta forc avail within reach provid help compound sieg attack u consul benghazi unfold high rank pentagon offici urgent messag secretari state hillari clinton top deputi offer militari help accord email obtain judici watch revel appear contradict testimoni defens secretari leon panetta gave lawmak said time get forc scene libya four american kill includ u ambassador libya christoph steven tri phone appar refer secretari state hillari clinton read email panetta chief staff jeremi bash consult gener dempsey gener ham joint staff identifi forc could move benghazi spin speak iron hillari clinton minion concern spin stori instead gear militari forc email sent p et sept earli stage eight hour sieg also claim live foreign servic inform manag offic sean smith two former navi seal ty wood glen doherti privat cia contractor race aid embattl state depart worker although email came first wave attack consul occur mortar strike cia annex kill wood doherti leav doubt militari asset offer readi go await state depart signoff come judici watch nonprofit govern watchdog said statement part email bash redact releas includ detail militari forc avail want know forc like avail listen read account ex special forc member explain bryan suit dark secret place popular radio show lo angel interview novemb explain panetta claim lie describ cif stand command extremi forc could sent benghazi cif heretofor littl known american option probabl never heard secret per se public much cif call someth avail everi theater command cif us armi special forc soldier specif dedic prepar time month end leav notic littl inform move air whatev vehicl situat determin best immedi solut oftentim get air absolut idea go mission oftentim brief air entir purpos cif extrem wors case someth happen right hour get delta forc someth happen right forc cif pre posit drop hat go anywher anyth time explain anger mani peopl special oper commun awar cif explain panetta lie enough time send bottom line presid option leon panetta said real time inform leon panetta say thursday know lie known week predat drone orbit benghazi consul us forc sent place less inform ye person vouch sent place initi mission find go principl deploy peopl without inform panetta hillari lie american public media never press enough demand answer inform avail sinc month attack testimoni whistleblow gregori hick'\n",
      " 'break megyn kelli interview parent fake black rachel dolez video whole public nightmar must heartbreak parent h weasel zipper']\n"
     ]
    }
   ],
   "source": [
    "print(X)"
   ]
  },
  {
   "cell_type": "code",
   "execution_count": 28,
   "id": "172ab216-474a-4f28-a584-98f295bafb7d",
   "metadata": {},
   "outputs": [],
   "source": [
    "vector = TfidfVectorizer()\n",
    "vector.fit(X)\n",
    "X = vector.transform(X)"
   ]
  },
  {
   "cell_type": "code",
   "execution_count": 29,
   "id": "f3e5e67f-994d-406c-a34b-e7b462df03dc",
   "metadata": {},
   "outputs": [
    {
     "name": "stdout",
     "output_type": "stream",
     "text": [
      "  (0, 86633)\t0.04580775347679398\n",
      "  (0, 86559)\t0.10786231230367069\n",
      "  (0, 85748)\t0.05661541744887966\n",
      "  (0, 85123)\t0.07888451555363499\n",
      "  (0, 83661)\t0.0703541364153399\n",
      "  (0, 82341)\t0.03157305203858447\n",
      "  (0, 80096)\t0.09458359369030066\n",
      "  (0, 79263)\t0.03498230444931636\n",
      "  (0, 79122)\t0.052385269277506856\n",
      "  (0, 79081)\t0.06751480808429197\n",
      "  (0, 78982)\t0.05831508668503061\n",
      "  (0, 78468)\t0.028545580413046983\n",
      "  (0, 77960)\t0.0536559397562538\n",
      "  (0, 77886)\t0.15300323751134\n",
      "  (0, 76898)\t0.05144545168480061\n",
      "  (0, 76890)\t0.051268783482294106\n",
      "  (0, 75889)\t0.030089472809340254\n",
      "  (0, 75518)\t0.1764658468760457\n",
      "  (0, 75205)\t0.05642742919965444\n",
      "  (0, 75166)\t0.07088042623881276\n",
      "  (0, 74913)\t0.09227607849249021\n",
      "  (0, 74612)\t0.05758108776023074\n",
      "  (0, 74559)\t0.06571182763727362\n",
      "  (0, 74368)\t0.06714681471526247\n",
      "  (0, 73874)\t0.04503861496426216\n",
      "  :\t:\n",
      "  (44896, 2339)\t0.02395570008454302\n",
      "  (44896, 2301)\t0.01185119179140825\n",
      "  (44896, 2170)\t0.018203449269092106\n",
      "  (44896, 1480)\t0.06904224518845274\n",
      "  (44896, 1431)\t0.022180919657671553\n",
      "  (44896, 502)\t0.021894381650401452\n",
      "  (44896, 494)\t0.015663416499969253\n",
      "  (44896, 398)\t0.02488725530771559\n",
      "  (44897, 89365)\t0.3085465793169973\n",
      "  (44897, 85670)\t0.1755353623914279\n",
      "  (44897, 84995)\t0.2871830084563291\n",
      "  (44897, 83424)\t0.10304506093902048\n",
      "  (44897, 63109)\t0.27454331475549687\n",
      "  (44897, 61833)\t0.1165678466592098\n",
      "  (44897, 57790)\t0.37963717767743993\n",
      "  (44897, 53786)\t0.2548386306035374\n",
      "  (44897, 51808)\t0.13802990982451238\n",
      "  (44897, 48555)\t0.26303013108686807\n",
      "  (44897, 40191)\t0.2153311773507625\n",
      "  (44897, 36128)\t0.1315588244199266\n",
      "  (44897, 31937)\t0.29457798334516405\n",
      "  (44897, 24214)\t0.1822094451407985\n",
      "  (44897, 19952)\t0.40676873217121967\n",
      "  (44897, 9454)\t0.15201808020278962\n",
      "  (44897, 7991)\t0.14968519198222327\n"
     ]
    }
   ],
   "source": [
    "print(X)"
   ]
  },
  {
   "cell_type": "code",
   "execution_count": 30,
   "id": "9de3305a-32c3-4d10-a4a3-99f64dbbd999",
   "metadata": {},
   "outputs": [
    {
     "data": {
      "text/plain": [
       "(44898, 89868)"
      ]
     },
     "execution_count": 30,
     "metadata": {},
     "output_type": "execute_result"
    }
   ],
   "source": [
    "X.shape"
   ]
  },
  {
   "cell_type": "code",
   "execution_count": null,
   "id": "4eeb232f-2840-44df-a112-ab9d02a53505",
   "metadata": {},
   "outputs": [],
   "source": []
  },
  {
   "cell_type": "code",
   "execution_count": 31,
   "id": "7d849c4c-980a-4902-a58a-3221aa243752",
   "metadata": {},
   "outputs": [],
   "source": [
    "X_train, X_test, y_train, y_test = train_test_split(X, y, test_size=0.2,stratify=y,random_state=2)"
   ]
  },
  {
   "cell_type": "code",
   "execution_count": 32,
   "id": "fce583d1-df84-4d54-86dc-2aba1148138c",
   "metadata": {},
   "outputs": [
    {
     "data": {
      "text/plain": [
       "(35918, 89868)"
      ]
     },
     "execution_count": 32,
     "metadata": {},
     "output_type": "execute_result"
    }
   ],
   "source": [
    "X_train.shape"
   ]
  },
  {
   "cell_type": "code",
   "execution_count": 33,
   "id": "bf7a779c-2fcd-4922-bfeb-43da32001d7f",
   "metadata": {},
   "outputs": [
    {
     "data": {
      "text/plain": [
       "(8980, 89868)"
      ]
     },
     "execution_count": 33,
     "metadata": {},
     "output_type": "execute_result"
    }
   ],
   "source": [
    "X_test.shape"
   ]
  },
  {
   "cell_type": "markdown",
   "id": "572668a5-1b29-495c-964f-2d8efd05af4c",
   "metadata": {},
   "source": [
    "## Logistic Regression"
   ]
  },
  {
   "cell_type": "code",
   "execution_count": 34,
   "id": "bec23b56-6867-44dc-b7a4-71c1d8a75cc0",
   "metadata": {},
   "outputs": [
    {
     "data": {
      "text/html": [
       "<style>#sk-container-id-1 {color: black;}#sk-container-id-1 pre{padding: 0;}#sk-container-id-1 div.sk-toggleable {background-color: white;}#sk-container-id-1 label.sk-toggleable__label {cursor: pointer;display: block;width: 100%;margin-bottom: 0;padding: 0.3em;box-sizing: border-box;text-align: center;}#sk-container-id-1 label.sk-toggleable__label-arrow:before {content: \"▸\";float: left;margin-right: 0.25em;color: #696969;}#sk-container-id-1 label.sk-toggleable__label-arrow:hover:before {color: black;}#sk-container-id-1 div.sk-estimator:hover label.sk-toggleable__label-arrow:before {color: black;}#sk-container-id-1 div.sk-toggleable__content {max-height: 0;max-width: 0;overflow: hidden;text-align: left;background-color: #f0f8ff;}#sk-container-id-1 div.sk-toggleable__content pre {margin: 0.2em;color: black;border-radius: 0.25em;background-color: #f0f8ff;}#sk-container-id-1 input.sk-toggleable__control:checked~div.sk-toggleable__content {max-height: 200px;max-width: 100%;overflow: auto;}#sk-container-id-1 input.sk-toggleable__control:checked~label.sk-toggleable__label-arrow:before {content: \"▾\";}#sk-container-id-1 div.sk-estimator input.sk-toggleable__control:checked~label.sk-toggleable__label {background-color: #d4ebff;}#sk-container-id-1 div.sk-label input.sk-toggleable__control:checked~label.sk-toggleable__label {background-color: #d4ebff;}#sk-container-id-1 input.sk-hidden--visually {border: 0;clip: rect(1px 1px 1px 1px);clip: rect(1px, 1px, 1px, 1px);height: 1px;margin: -1px;overflow: hidden;padding: 0;position: absolute;width: 1px;}#sk-container-id-1 div.sk-estimator {font-family: monospace;background-color: #f0f8ff;border: 1px dotted black;border-radius: 0.25em;box-sizing: border-box;margin-bottom: 0.5em;}#sk-container-id-1 div.sk-estimator:hover {background-color: #d4ebff;}#sk-container-id-1 div.sk-parallel-item::after {content: \"\";width: 100%;border-bottom: 1px solid gray;flex-grow: 1;}#sk-container-id-1 div.sk-label:hover label.sk-toggleable__label {background-color: #d4ebff;}#sk-container-id-1 div.sk-serial::before {content: \"\";position: absolute;border-left: 1px solid gray;box-sizing: border-box;top: 0;bottom: 0;left: 50%;z-index: 0;}#sk-container-id-1 div.sk-serial {display: flex;flex-direction: column;align-items: center;background-color: white;padding-right: 0.2em;padding-left: 0.2em;position: relative;}#sk-container-id-1 div.sk-item {position: relative;z-index: 1;}#sk-container-id-1 div.sk-parallel {display: flex;align-items: stretch;justify-content: center;background-color: white;position: relative;}#sk-container-id-1 div.sk-item::before, #sk-container-id-1 div.sk-parallel-item::before {content: \"\";position: absolute;border-left: 1px solid gray;box-sizing: border-box;top: 0;bottom: 0;left: 50%;z-index: -1;}#sk-container-id-1 div.sk-parallel-item {display: flex;flex-direction: column;z-index: 1;position: relative;background-color: white;}#sk-container-id-1 div.sk-parallel-item:first-child::after {align-self: flex-end;width: 50%;}#sk-container-id-1 div.sk-parallel-item:last-child::after {align-self: flex-start;width: 50%;}#sk-container-id-1 div.sk-parallel-item:only-child::after {width: 0;}#sk-container-id-1 div.sk-dashed-wrapped {border: 1px dashed gray;margin: 0 0.4em 0.5em 0.4em;box-sizing: border-box;padding-bottom: 0.4em;background-color: white;}#sk-container-id-1 div.sk-label label {font-family: monospace;font-weight: bold;display: inline-block;line-height: 1.2em;}#sk-container-id-1 div.sk-label-container {text-align: center;}#sk-container-id-1 div.sk-container {/* jupyter's `normalize.less` sets `[hidden] { display: none; }` but bootstrap.min.css set `[hidden] { display: none !important; }` so we also need the `!important` here to be able to override the default hidden behavior on the sphinx rendered scikit-learn.org. See: https://github.com/scikit-learn/scikit-learn/issues/21755 */display: inline-block !important;position: relative;}#sk-container-id-1 div.sk-text-repr-fallback {display: none;}</style><div id=\"sk-container-id-1\" class=\"sk-top-container\"><div class=\"sk-text-repr-fallback\"><pre>LogisticRegression()</pre><b>In a Jupyter environment, please rerun this cell to show the HTML representation or trust the notebook. <br />On GitHub, the HTML representation is unable to render, please try loading this page with nbviewer.org.</b></div><div class=\"sk-container\" hidden><div class=\"sk-item\"><div class=\"sk-estimator sk-toggleable\"><input class=\"sk-toggleable__control sk-hidden--visually\" id=\"sk-estimator-id-1\" type=\"checkbox\" checked><label for=\"sk-estimator-id-1\" class=\"sk-toggleable__label sk-toggleable__label-arrow\">LogisticRegression</label><div class=\"sk-toggleable__content\"><pre>LogisticRegression()</pre></div></div></div></div></div>"
      ],
      "text/plain": [
       "LogisticRegression()"
      ]
     },
     "execution_count": 34,
     "metadata": {},
     "output_type": "execute_result"
    }
   ],
   "source": [
    "from sklearn.linear_model import LogisticRegression\n",
    "LR = LogisticRegression()\n",
    "LR.fit(X_train, y_train)"
   ]
  },
  {
   "cell_type": "code",
   "execution_count": 35,
   "id": "577a2b69-62fd-41f1-938b-33913d3e2a0e",
   "metadata": {},
   "outputs": [],
   "source": [
    "pred_lr = LR.predict(X_test)"
   ]
  },
  {
   "cell_type": "code",
   "execution_count": 36,
   "id": "89a26c72-feed-425d-88de-73b8c4d26197",
   "metadata": {},
   "outputs": [
    {
     "data": {
      "text/plain": [
       "0.987305122494432"
      ]
     },
     "execution_count": 36,
     "metadata": {},
     "output_type": "execute_result"
    }
   ],
   "source": [
    "LR.score(X_test, y_test)"
   ]
  },
  {
   "cell_type": "code",
   "execution_count": 37,
   "id": "46c9b12b-3a2c-43b0-87f7-981bbb2eaf1b",
   "metadata": {},
   "outputs": [
    {
     "name": "stdout",
     "output_type": "stream",
     "text": [
      "              precision    recall  f1-score   support\n",
      "\n",
      "           0       0.99      0.99      0.99      4696\n",
      "           1       0.99      0.99      0.99      4284\n",
      "\n",
      "    accuracy                           0.99      8980\n",
      "   macro avg       0.99      0.99      0.99      8980\n",
      "weighted avg       0.99      0.99      0.99      8980\n",
      "\n"
     ]
    }
   ],
   "source": [
    "print(classification_report(y_test, pred_lr))"
   ]
  },
  {
   "cell_type": "markdown",
   "id": "bad51651-a628-401e-b4fe-c44bb3c1c330",
   "metadata": {},
   "source": [
    "## Decision Tree Classification"
   ]
  },
  {
   "cell_type": "code",
   "execution_count": 38,
   "id": "7478f8d4-f97d-41a2-ae3e-f5ea497147ad",
   "metadata": {},
   "outputs": [
    {
     "data": {
      "text/html": [
       "<style>#sk-container-id-2 {color: black;}#sk-container-id-2 pre{padding: 0;}#sk-container-id-2 div.sk-toggleable {background-color: white;}#sk-container-id-2 label.sk-toggleable__label {cursor: pointer;display: block;width: 100%;margin-bottom: 0;padding: 0.3em;box-sizing: border-box;text-align: center;}#sk-container-id-2 label.sk-toggleable__label-arrow:before {content: \"▸\";float: left;margin-right: 0.25em;color: #696969;}#sk-container-id-2 label.sk-toggleable__label-arrow:hover:before {color: black;}#sk-container-id-2 div.sk-estimator:hover label.sk-toggleable__label-arrow:before {color: black;}#sk-container-id-2 div.sk-toggleable__content {max-height: 0;max-width: 0;overflow: hidden;text-align: left;background-color: #f0f8ff;}#sk-container-id-2 div.sk-toggleable__content pre {margin: 0.2em;color: black;border-radius: 0.25em;background-color: #f0f8ff;}#sk-container-id-2 input.sk-toggleable__control:checked~div.sk-toggleable__content {max-height: 200px;max-width: 100%;overflow: auto;}#sk-container-id-2 input.sk-toggleable__control:checked~label.sk-toggleable__label-arrow:before {content: \"▾\";}#sk-container-id-2 div.sk-estimator input.sk-toggleable__control:checked~label.sk-toggleable__label {background-color: #d4ebff;}#sk-container-id-2 div.sk-label input.sk-toggleable__control:checked~label.sk-toggleable__label {background-color: #d4ebff;}#sk-container-id-2 input.sk-hidden--visually {border: 0;clip: rect(1px 1px 1px 1px);clip: rect(1px, 1px, 1px, 1px);height: 1px;margin: -1px;overflow: hidden;padding: 0;position: absolute;width: 1px;}#sk-container-id-2 div.sk-estimator {font-family: monospace;background-color: #f0f8ff;border: 1px dotted black;border-radius: 0.25em;box-sizing: border-box;margin-bottom: 0.5em;}#sk-container-id-2 div.sk-estimator:hover {background-color: #d4ebff;}#sk-container-id-2 div.sk-parallel-item::after {content: \"\";width: 100%;border-bottom: 1px solid gray;flex-grow: 1;}#sk-container-id-2 div.sk-label:hover label.sk-toggleable__label {background-color: #d4ebff;}#sk-container-id-2 div.sk-serial::before {content: \"\";position: absolute;border-left: 1px solid gray;box-sizing: border-box;top: 0;bottom: 0;left: 50%;z-index: 0;}#sk-container-id-2 div.sk-serial {display: flex;flex-direction: column;align-items: center;background-color: white;padding-right: 0.2em;padding-left: 0.2em;position: relative;}#sk-container-id-2 div.sk-item {position: relative;z-index: 1;}#sk-container-id-2 div.sk-parallel {display: flex;align-items: stretch;justify-content: center;background-color: white;position: relative;}#sk-container-id-2 div.sk-item::before, #sk-container-id-2 div.sk-parallel-item::before {content: \"\";position: absolute;border-left: 1px solid gray;box-sizing: border-box;top: 0;bottom: 0;left: 50%;z-index: -1;}#sk-container-id-2 div.sk-parallel-item {display: flex;flex-direction: column;z-index: 1;position: relative;background-color: white;}#sk-container-id-2 div.sk-parallel-item:first-child::after {align-self: flex-end;width: 50%;}#sk-container-id-2 div.sk-parallel-item:last-child::after {align-self: flex-start;width: 50%;}#sk-container-id-2 div.sk-parallel-item:only-child::after {width: 0;}#sk-container-id-2 div.sk-dashed-wrapped {border: 1px dashed gray;margin: 0 0.4em 0.5em 0.4em;box-sizing: border-box;padding-bottom: 0.4em;background-color: white;}#sk-container-id-2 div.sk-label label {font-family: monospace;font-weight: bold;display: inline-block;line-height: 1.2em;}#sk-container-id-2 div.sk-label-container {text-align: center;}#sk-container-id-2 div.sk-container {/* jupyter's `normalize.less` sets `[hidden] { display: none; }` but bootstrap.min.css set `[hidden] { display: none !important; }` so we also need the `!important` here to be able to override the default hidden behavior on the sphinx rendered scikit-learn.org. See: https://github.com/scikit-learn/scikit-learn/issues/21755 */display: inline-block !important;position: relative;}#sk-container-id-2 div.sk-text-repr-fallback {display: none;}</style><div id=\"sk-container-id-2\" class=\"sk-top-container\"><div class=\"sk-text-repr-fallback\"><pre>DecisionTreeClassifier()</pre><b>In a Jupyter environment, please rerun this cell to show the HTML representation or trust the notebook. <br />On GitHub, the HTML representation is unable to render, please try loading this page with nbviewer.org.</b></div><div class=\"sk-container\" hidden><div class=\"sk-item\"><div class=\"sk-estimator sk-toggleable\"><input class=\"sk-toggleable__control sk-hidden--visually\" id=\"sk-estimator-id-2\" type=\"checkbox\" checked><label for=\"sk-estimator-id-2\" class=\"sk-toggleable__label sk-toggleable__label-arrow\">DecisionTreeClassifier</label><div class=\"sk-toggleable__content\"><pre>DecisionTreeClassifier()</pre></div></div></div></div></div>"
      ],
      "text/plain": [
       "DecisionTreeClassifier()"
      ]
     },
     "execution_count": 38,
     "metadata": {},
     "output_type": "execute_result"
    }
   ],
   "source": [
    "from sklearn.tree import DecisionTreeClassifier\n",
    "DT = DecisionTreeClassifier()\n",
    "DT.fit(X_train, y_train)"
   ]
  },
  {
   "cell_type": "code",
   "execution_count": 39,
   "id": "38ce2744-4062-4973-8fd0-efd87015db31",
   "metadata": {},
   "outputs": [],
   "source": [
    "pred_dt = DT.predict(X_test)"
   ]
  },
  {
   "cell_type": "code",
   "execution_count": 40,
   "id": "4906d5ba-45ed-4b42-baed-8d37ed279cfb",
   "metadata": {},
   "outputs": [
    {
     "data": {
      "text/plain": [
       "0.9963251670378619"
      ]
     },
     "execution_count": 40,
     "metadata": {},
     "output_type": "execute_result"
    }
   ],
   "source": [
    "DT.score(X_test, y_test)"
   ]
  },
  {
   "cell_type": "code",
   "execution_count": 41,
   "id": "83796037-0179-40cf-8f48-feb20266a849",
   "metadata": {},
   "outputs": [
    {
     "name": "stdout",
     "output_type": "stream",
     "text": [
      "              precision    recall  f1-score   support\n",
      "\n",
      "           0       1.00      1.00      1.00      4696\n",
      "           1       1.00      1.00      1.00      4284\n",
      "\n",
      "    accuracy                           1.00      8980\n",
      "   macro avg       1.00      1.00      1.00      8980\n",
      "weighted avg       1.00      1.00      1.00      8980\n",
      "\n"
     ]
    }
   ],
   "source": [
    "print(classification_report(y_test, pred_dt))"
   ]
  },
  {
   "cell_type": "code",
   "execution_count": null,
   "id": "9744b243-4321-4510-80d4-6e8e2068fe01",
   "metadata": {},
   "outputs": [],
   "source": []
  },
  {
   "cell_type": "markdown",
   "id": "4c76520e-f982-4286-a26b-9f5f7d67d5b9",
   "metadata": {},
   "source": [
    "## Gradient Boosting Classifier"
   ]
  },
  {
   "cell_type": "code",
   "execution_count": 42,
   "id": "9fd0b1bb-07e8-4496-a4a4-040401412750",
   "metadata": {},
   "outputs": [
    {
     "data": {
      "text/html": [
       "<style>#sk-container-id-3 {color: black;}#sk-container-id-3 pre{padding: 0;}#sk-container-id-3 div.sk-toggleable {background-color: white;}#sk-container-id-3 label.sk-toggleable__label {cursor: pointer;display: block;width: 100%;margin-bottom: 0;padding: 0.3em;box-sizing: border-box;text-align: center;}#sk-container-id-3 label.sk-toggleable__label-arrow:before {content: \"▸\";float: left;margin-right: 0.25em;color: #696969;}#sk-container-id-3 label.sk-toggleable__label-arrow:hover:before {color: black;}#sk-container-id-3 div.sk-estimator:hover label.sk-toggleable__label-arrow:before {color: black;}#sk-container-id-3 div.sk-toggleable__content {max-height: 0;max-width: 0;overflow: hidden;text-align: left;background-color: #f0f8ff;}#sk-container-id-3 div.sk-toggleable__content pre {margin: 0.2em;color: black;border-radius: 0.25em;background-color: #f0f8ff;}#sk-container-id-3 input.sk-toggleable__control:checked~div.sk-toggleable__content {max-height: 200px;max-width: 100%;overflow: auto;}#sk-container-id-3 input.sk-toggleable__control:checked~label.sk-toggleable__label-arrow:before {content: \"▾\";}#sk-container-id-3 div.sk-estimator input.sk-toggleable__control:checked~label.sk-toggleable__label {background-color: #d4ebff;}#sk-container-id-3 div.sk-label input.sk-toggleable__control:checked~label.sk-toggleable__label {background-color: #d4ebff;}#sk-container-id-3 input.sk-hidden--visually {border: 0;clip: rect(1px 1px 1px 1px);clip: rect(1px, 1px, 1px, 1px);height: 1px;margin: -1px;overflow: hidden;padding: 0;position: absolute;width: 1px;}#sk-container-id-3 div.sk-estimator {font-family: monospace;background-color: #f0f8ff;border: 1px dotted black;border-radius: 0.25em;box-sizing: border-box;margin-bottom: 0.5em;}#sk-container-id-3 div.sk-estimator:hover {background-color: #d4ebff;}#sk-container-id-3 div.sk-parallel-item::after {content: \"\";width: 100%;border-bottom: 1px solid gray;flex-grow: 1;}#sk-container-id-3 div.sk-label:hover label.sk-toggleable__label {background-color: #d4ebff;}#sk-container-id-3 div.sk-serial::before {content: \"\";position: absolute;border-left: 1px solid gray;box-sizing: border-box;top: 0;bottom: 0;left: 50%;z-index: 0;}#sk-container-id-3 div.sk-serial {display: flex;flex-direction: column;align-items: center;background-color: white;padding-right: 0.2em;padding-left: 0.2em;position: relative;}#sk-container-id-3 div.sk-item {position: relative;z-index: 1;}#sk-container-id-3 div.sk-parallel {display: flex;align-items: stretch;justify-content: center;background-color: white;position: relative;}#sk-container-id-3 div.sk-item::before, #sk-container-id-3 div.sk-parallel-item::before {content: \"\";position: absolute;border-left: 1px solid gray;box-sizing: border-box;top: 0;bottom: 0;left: 50%;z-index: -1;}#sk-container-id-3 div.sk-parallel-item {display: flex;flex-direction: column;z-index: 1;position: relative;background-color: white;}#sk-container-id-3 div.sk-parallel-item:first-child::after {align-self: flex-end;width: 50%;}#sk-container-id-3 div.sk-parallel-item:last-child::after {align-self: flex-start;width: 50%;}#sk-container-id-3 div.sk-parallel-item:only-child::after {width: 0;}#sk-container-id-3 div.sk-dashed-wrapped {border: 1px dashed gray;margin: 0 0.4em 0.5em 0.4em;box-sizing: border-box;padding-bottom: 0.4em;background-color: white;}#sk-container-id-3 div.sk-label label {font-family: monospace;font-weight: bold;display: inline-block;line-height: 1.2em;}#sk-container-id-3 div.sk-label-container {text-align: center;}#sk-container-id-3 div.sk-container {/* jupyter's `normalize.less` sets `[hidden] { display: none; }` but bootstrap.min.css set `[hidden] { display: none !important; }` so we also need the `!important` here to be able to override the default hidden behavior on the sphinx rendered scikit-learn.org. See: https://github.com/scikit-learn/scikit-learn/issues/21755 */display: inline-block !important;position: relative;}#sk-container-id-3 div.sk-text-repr-fallback {display: none;}</style><div id=\"sk-container-id-3\" class=\"sk-top-container\"><div class=\"sk-text-repr-fallback\"><pre>GradientBoostingClassifier(random_state=0)</pre><b>In a Jupyter environment, please rerun this cell to show the HTML representation or trust the notebook. <br />On GitHub, the HTML representation is unable to render, please try loading this page with nbviewer.org.</b></div><div class=\"sk-container\" hidden><div class=\"sk-item\"><div class=\"sk-estimator sk-toggleable\"><input class=\"sk-toggleable__control sk-hidden--visually\" id=\"sk-estimator-id-3\" type=\"checkbox\" checked><label for=\"sk-estimator-id-3\" class=\"sk-toggleable__label sk-toggleable__label-arrow\">GradientBoostingClassifier</label><div class=\"sk-toggleable__content\"><pre>GradientBoostingClassifier(random_state=0)</pre></div></div></div></div></div>"
      ],
      "text/plain": [
       "GradientBoostingClassifier(random_state=0)"
      ]
     },
     "execution_count": 42,
     "metadata": {},
     "output_type": "execute_result"
    }
   ],
   "source": [
    "from sklearn.ensemble import GradientBoostingClassifier\n",
    "GB = GradientBoostingClassifier(random_state = 0)\n",
    "GB.fit(X_train, y_train)"
   ]
  },
  {
   "cell_type": "code",
   "execution_count": 43,
   "id": "84b2c859-45a1-4db3-a4c8-939b53c23f01",
   "metadata": {},
   "outputs": [],
   "source": [
    "pred_gb = GB.predict(X_test)"
   ]
  },
  {
   "cell_type": "code",
   "execution_count": 44,
   "id": "7f2ea368-9fdf-4cdc-9aa6-665c6d9592e8",
   "metadata": {},
   "outputs": [
    {
     "data": {
      "text/plain": [
       "0.9956570155902005"
      ]
     },
     "execution_count": 44,
     "metadata": {},
     "output_type": "execute_result"
    }
   ],
   "source": [
    "GB.score(X_test, y_test)"
   ]
  },
  {
   "cell_type": "code",
   "execution_count": 45,
   "id": "29b7a05a-fe36-453d-8d55-0338b002f571",
   "metadata": {},
   "outputs": [
    {
     "name": "stdout",
     "output_type": "stream",
     "text": [
      "              precision    recall  f1-score   support\n",
      "\n",
      "           0       1.00      0.99      1.00      4696\n",
      "           1       0.99      1.00      1.00      4284\n",
      "\n",
      "    accuracy                           1.00      8980\n",
      "   macro avg       1.00      1.00      1.00      8980\n",
      "weighted avg       1.00      1.00      1.00      8980\n",
      "\n"
     ]
    }
   ],
   "source": [
    "print(classification_report(y_test, pred_gb))"
   ]
  },
  {
   "cell_type": "code",
   "execution_count": null,
   "id": "f90512f3-faef-4d77-a108-e171c2f3c054",
   "metadata": {},
   "outputs": [],
   "source": []
  },
  {
   "cell_type": "markdown",
   "id": "dd00f1a5-451f-4c94-bff1-989639326ab9",
   "metadata": {},
   "source": [
    "## Random Forest Classification"
   ]
  },
  {
   "cell_type": "code",
   "execution_count": 46,
   "id": "b2f54e16-da42-4058-9b28-78ee3c1356a9",
   "metadata": {},
   "outputs": [
    {
     "data": {
      "text/html": [
       "<style>#sk-container-id-4 {color: black;}#sk-container-id-4 pre{padding: 0;}#sk-container-id-4 div.sk-toggleable {background-color: white;}#sk-container-id-4 label.sk-toggleable__label {cursor: pointer;display: block;width: 100%;margin-bottom: 0;padding: 0.3em;box-sizing: border-box;text-align: center;}#sk-container-id-4 label.sk-toggleable__label-arrow:before {content: \"▸\";float: left;margin-right: 0.25em;color: #696969;}#sk-container-id-4 label.sk-toggleable__label-arrow:hover:before {color: black;}#sk-container-id-4 div.sk-estimator:hover label.sk-toggleable__label-arrow:before {color: black;}#sk-container-id-4 div.sk-toggleable__content {max-height: 0;max-width: 0;overflow: hidden;text-align: left;background-color: #f0f8ff;}#sk-container-id-4 div.sk-toggleable__content pre {margin: 0.2em;color: black;border-radius: 0.25em;background-color: #f0f8ff;}#sk-container-id-4 input.sk-toggleable__control:checked~div.sk-toggleable__content {max-height: 200px;max-width: 100%;overflow: auto;}#sk-container-id-4 input.sk-toggleable__control:checked~label.sk-toggleable__label-arrow:before {content: \"▾\";}#sk-container-id-4 div.sk-estimator input.sk-toggleable__control:checked~label.sk-toggleable__label {background-color: #d4ebff;}#sk-container-id-4 div.sk-label input.sk-toggleable__control:checked~label.sk-toggleable__label {background-color: #d4ebff;}#sk-container-id-4 input.sk-hidden--visually {border: 0;clip: rect(1px 1px 1px 1px);clip: rect(1px, 1px, 1px, 1px);height: 1px;margin: -1px;overflow: hidden;padding: 0;position: absolute;width: 1px;}#sk-container-id-4 div.sk-estimator {font-family: monospace;background-color: #f0f8ff;border: 1px dotted black;border-radius: 0.25em;box-sizing: border-box;margin-bottom: 0.5em;}#sk-container-id-4 div.sk-estimator:hover {background-color: #d4ebff;}#sk-container-id-4 div.sk-parallel-item::after {content: \"\";width: 100%;border-bottom: 1px solid gray;flex-grow: 1;}#sk-container-id-4 div.sk-label:hover label.sk-toggleable__label {background-color: #d4ebff;}#sk-container-id-4 div.sk-serial::before {content: \"\";position: absolute;border-left: 1px solid gray;box-sizing: border-box;top: 0;bottom: 0;left: 50%;z-index: 0;}#sk-container-id-4 div.sk-serial {display: flex;flex-direction: column;align-items: center;background-color: white;padding-right: 0.2em;padding-left: 0.2em;position: relative;}#sk-container-id-4 div.sk-item {position: relative;z-index: 1;}#sk-container-id-4 div.sk-parallel {display: flex;align-items: stretch;justify-content: center;background-color: white;position: relative;}#sk-container-id-4 div.sk-item::before, #sk-container-id-4 div.sk-parallel-item::before {content: \"\";position: absolute;border-left: 1px solid gray;box-sizing: border-box;top: 0;bottom: 0;left: 50%;z-index: -1;}#sk-container-id-4 div.sk-parallel-item {display: flex;flex-direction: column;z-index: 1;position: relative;background-color: white;}#sk-container-id-4 div.sk-parallel-item:first-child::after {align-self: flex-end;width: 50%;}#sk-container-id-4 div.sk-parallel-item:last-child::after {align-self: flex-start;width: 50%;}#sk-container-id-4 div.sk-parallel-item:only-child::after {width: 0;}#sk-container-id-4 div.sk-dashed-wrapped {border: 1px dashed gray;margin: 0 0.4em 0.5em 0.4em;box-sizing: border-box;padding-bottom: 0.4em;background-color: white;}#sk-container-id-4 div.sk-label label {font-family: monospace;font-weight: bold;display: inline-block;line-height: 1.2em;}#sk-container-id-4 div.sk-label-container {text-align: center;}#sk-container-id-4 div.sk-container {/* jupyter's `normalize.less` sets `[hidden] { display: none; }` but bootstrap.min.css set `[hidden] { display: none !important; }` so we also need the `!important` here to be able to override the default hidden behavior on the sphinx rendered scikit-learn.org. See: https://github.com/scikit-learn/scikit-learn/issues/21755 */display: inline-block !important;position: relative;}#sk-container-id-4 div.sk-text-repr-fallback {display: none;}</style><div id=\"sk-container-id-4\" class=\"sk-top-container\"><div class=\"sk-text-repr-fallback\"><pre>RandomForestClassifier(random_state=0)</pre><b>In a Jupyter environment, please rerun this cell to show the HTML representation or trust the notebook. <br />On GitHub, the HTML representation is unable to render, please try loading this page with nbviewer.org.</b></div><div class=\"sk-container\" hidden><div class=\"sk-item\"><div class=\"sk-estimator sk-toggleable\"><input class=\"sk-toggleable__control sk-hidden--visually\" id=\"sk-estimator-id-4\" type=\"checkbox\" checked><label for=\"sk-estimator-id-4\" class=\"sk-toggleable__label sk-toggleable__label-arrow\">RandomForestClassifier</label><div class=\"sk-toggleable__content\"><pre>RandomForestClassifier(random_state=0)</pre></div></div></div></div></div>"
      ],
      "text/plain": [
       "RandomForestClassifier(random_state=0)"
      ]
     },
     "execution_count": 46,
     "metadata": {},
     "output_type": "execute_result"
    }
   ],
   "source": [
    "from sklearn.ensemble import RandomForestClassifier \n",
    "RF = RandomForestClassifier(random_state = 0)\n",
    "RF.fit(X_train, y_train)"
   ]
  },
  {
   "cell_type": "code",
   "execution_count": 47,
   "id": "a9a452e5-9554-4621-b260-2ac31554421e",
   "metadata": {},
   "outputs": [],
   "source": [
    "pred_rf = RF.predict(X_test)"
   ]
  },
  {
   "cell_type": "code",
   "execution_count": 48,
   "id": "fe5053a0-6b60-41c2-a452-926f5a4388ba",
   "metadata": {},
   "outputs": [
    {
     "data": {
      "text/plain": [
       "0.9924276169265034"
      ]
     },
     "execution_count": 48,
     "metadata": {},
     "output_type": "execute_result"
    }
   ],
   "source": [
    "RF.score(X_test, y_test)"
   ]
  },
  {
   "cell_type": "code",
   "execution_count": 49,
   "id": "36c55eed-1c76-4421-8219-0cf125f190aa",
   "metadata": {},
   "outputs": [
    {
     "name": "stdout",
     "output_type": "stream",
     "text": [
      "              precision    recall  f1-score   support\n",
      "\n",
      "           0       0.99      0.99      0.99      4696\n",
      "           1       0.99      0.99      0.99      4284\n",
      "\n",
      "    accuracy                           0.99      8980\n",
      "   macro avg       0.99      0.99      0.99      8980\n",
      "weighted avg       0.99      0.99      0.99      8980\n",
      "\n"
     ]
    }
   ],
   "source": [
    "print(classification_report(y_test, pred_rf))"
   ]
  },
  {
   "cell_type": "code",
   "execution_count": null,
   "id": "d3ed9c09-49c2-4c5a-98d4-4cbf4b4fe426",
   "metadata": {},
   "outputs": [],
   "source": []
  },
  {
   "cell_type": "code",
   "execution_count": null,
   "id": "c7d89d49-a679-4e4b-a142-2462bca51e32",
   "metadata": {},
   "outputs": [],
   "source": []
  },
  {
   "cell_type": "markdown",
   "id": "8b095006-27a9-4db8-8ed1-d70f7167d468",
   "metadata": {},
   "source": [
    "## Logistic Regression (Original)"
   ]
  },
  {
   "cell_type": "code",
   "execution_count": null,
   "id": "7437c4ff-8c79-44d8-a3d6-2ad859a226ad",
   "metadata": {},
   "outputs": [],
   "source": []
  },
  {
   "cell_type": "code",
   "execution_count": 50,
   "id": "de5c24f8-880b-4ce5-8165-f5f8912c49bc",
   "metadata": {},
   "outputs": [
    {
     "data": {
      "text/html": [
       "<style>#sk-container-id-5 {color: black;}#sk-container-id-5 pre{padding: 0;}#sk-container-id-5 div.sk-toggleable {background-color: white;}#sk-container-id-5 label.sk-toggleable__label {cursor: pointer;display: block;width: 100%;margin-bottom: 0;padding: 0.3em;box-sizing: border-box;text-align: center;}#sk-container-id-5 label.sk-toggleable__label-arrow:before {content: \"▸\";float: left;margin-right: 0.25em;color: #696969;}#sk-container-id-5 label.sk-toggleable__label-arrow:hover:before {color: black;}#sk-container-id-5 div.sk-estimator:hover label.sk-toggleable__label-arrow:before {color: black;}#sk-container-id-5 div.sk-toggleable__content {max-height: 0;max-width: 0;overflow: hidden;text-align: left;background-color: #f0f8ff;}#sk-container-id-5 div.sk-toggleable__content pre {margin: 0.2em;color: black;border-radius: 0.25em;background-color: #f0f8ff;}#sk-container-id-5 input.sk-toggleable__control:checked~div.sk-toggleable__content {max-height: 200px;max-width: 100%;overflow: auto;}#sk-container-id-5 input.sk-toggleable__control:checked~label.sk-toggleable__label-arrow:before {content: \"▾\";}#sk-container-id-5 div.sk-estimator input.sk-toggleable__control:checked~label.sk-toggleable__label {background-color: #d4ebff;}#sk-container-id-5 div.sk-label input.sk-toggleable__control:checked~label.sk-toggleable__label {background-color: #d4ebff;}#sk-container-id-5 input.sk-hidden--visually {border: 0;clip: rect(1px 1px 1px 1px);clip: rect(1px, 1px, 1px, 1px);height: 1px;margin: -1px;overflow: hidden;padding: 0;position: absolute;width: 1px;}#sk-container-id-5 div.sk-estimator {font-family: monospace;background-color: #f0f8ff;border: 1px dotted black;border-radius: 0.25em;box-sizing: border-box;margin-bottom: 0.5em;}#sk-container-id-5 div.sk-estimator:hover {background-color: #d4ebff;}#sk-container-id-5 div.sk-parallel-item::after {content: \"\";width: 100%;border-bottom: 1px solid gray;flex-grow: 1;}#sk-container-id-5 div.sk-label:hover label.sk-toggleable__label {background-color: #d4ebff;}#sk-container-id-5 div.sk-serial::before {content: \"\";position: absolute;border-left: 1px solid gray;box-sizing: border-box;top: 0;bottom: 0;left: 50%;z-index: 0;}#sk-container-id-5 div.sk-serial {display: flex;flex-direction: column;align-items: center;background-color: white;padding-right: 0.2em;padding-left: 0.2em;position: relative;}#sk-container-id-5 div.sk-item {position: relative;z-index: 1;}#sk-container-id-5 div.sk-parallel {display: flex;align-items: stretch;justify-content: center;background-color: white;position: relative;}#sk-container-id-5 div.sk-item::before, #sk-container-id-5 div.sk-parallel-item::before {content: \"\";position: absolute;border-left: 1px solid gray;box-sizing: border-box;top: 0;bottom: 0;left: 50%;z-index: -1;}#sk-container-id-5 div.sk-parallel-item {display: flex;flex-direction: column;z-index: 1;position: relative;background-color: white;}#sk-container-id-5 div.sk-parallel-item:first-child::after {align-self: flex-end;width: 50%;}#sk-container-id-5 div.sk-parallel-item:last-child::after {align-self: flex-start;width: 50%;}#sk-container-id-5 div.sk-parallel-item:only-child::after {width: 0;}#sk-container-id-5 div.sk-dashed-wrapped {border: 1px dashed gray;margin: 0 0.4em 0.5em 0.4em;box-sizing: border-box;padding-bottom: 0.4em;background-color: white;}#sk-container-id-5 div.sk-label label {font-family: monospace;font-weight: bold;display: inline-block;line-height: 1.2em;}#sk-container-id-5 div.sk-label-container {text-align: center;}#sk-container-id-5 div.sk-container {/* jupyter's `normalize.less` sets `[hidden] { display: none; }` but bootstrap.min.css set `[hidden] { display: none !important; }` so we also need the `!important` here to be able to override the default hidden behavior on the sphinx rendered scikit-learn.org. See: https://github.com/scikit-learn/scikit-learn/issues/21755 */display: inline-block !important;position: relative;}#sk-container-id-5 div.sk-text-repr-fallback {display: none;}</style><div id=\"sk-container-id-5\" class=\"sk-top-container\"><div class=\"sk-text-repr-fallback\"><pre>LogisticRegression()</pre><b>In a Jupyter environment, please rerun this cell to show the HTML representation or trust the notebook. <br />On GitHub, the HTML representation is unable to render, please try loading this page with nbviewer.org.</b></div><div class=\"sk-container\" hidden><div class=\"sk-item\"><div class=\"sk-estimator sk-toggleable\"><input class=\"sk-toggleable__control sk-hidden--visually\" id=\"sk-estimator-id-5\" type=\"checkbox\" checked><label for=\"sk-estimator-id-5\" class=\"sk-toggleable__label sk-toggleable__label-arrow\">LogisticRegression</label><div class=\"sk-toggleable__content\"><pre>LogisticRegression()</pre></div></div></div></div></div>"
      ],
      "text/plain": [
       "LogisticRegression()"
      ]
     },
     "execution_count": 50,
     "metadata": {},
     "output_type": "execute_result"
    }
   ],
   "source": [
    "model = LogisticRegression()\n",
    "model.fit(X_train, y_train)\n"
   ]
  },
  {
   "cell_type": "code",
   "execution_count": 51,
   "id": "ad786bc8-a405-421d-b9d5-5ad846276c2a",
   "metadata": {},
   "outputs": [
    {
     "name": "stdout",
     "output_type": "stream",
     "text": [
      "train accuracy : 0.987305122494432\n"
     ]
    }
   ],
   "source": [
    "train_y_pred = model.predict(X_test)\n",
    "print(\"train accuracy :\", accuracy_score(train_y_pred,y_test))"
   ]
  },
  {
   "cell_type": "code",
   "execution_count": 52,
   "id": "38c7c641-7282-4630-aa5d-df2e51285798",
   "metadata": {},
   "outputs": [
    {
     "name": "stdout",
     "output_type": "stream",
     "text": [
      "              precision    recall  f1-score   support\n",
      "\n",
      "           0       0.99      0.99      0.99      4696\n",
      "           1       0.99      0.99      0.99      4284\n",
      "\n",
      "    accuracy                           0.99      8980\n",
      "   macro avg       0.99      0.99      0.99      8980\n",
      "weighted avg       0.99      0.99      0.99      8980\n",
      "\n"
     ]
    }
   ],
   "source": [
    "print(classification_report(y_test, train_y_pred))"
   ]
  },
  {
   "cell_type": "markdown",
   "id": "a95e146c-fa5a-465f-a972-6cbfc7d08726",
   "metadata": {},
   "source": [
    "input_data = X_test[10]\r\n",
    "input_data_reshaped = input_data.reshape(1, -1)\r\n",
    "prediction = model.predict(input_data_reshaped)\r\n",
    "\r\n",
    "if prediction[0] == 1:\r\n",
    "    print('This piece of News Cannot be Verified')\r\n",
    "else:\r\n",
    "    print('This piece of news is Verified')\r\n"
   ]
  },
  {
   "cell_type": "code",
   "execution_count": 53,
   "id": "c6a27c3d-d1b6-4a11-99d0-bdb172fb03c3",
   "metadata": {},
   "outputs": [
    {
     "name": "stdout",
     "output_type": "stream",
     "text": [
      "This piece of News Cannot be Verified\n"
     ]
    }
   ],
   "source": [
    "input_data = X_test[1]\n",
    "input_data_reshaped = input_data.reshape(1, -1)\n",
    "prediction = model.predict(input_data_reshaped)\n",
    "\n",
    "if prediction[0] == 1:\n",
    "    print('This piece of News Cannot be Verified')\n",
    "else:\n",
    "    print('This piece of news is Verified')\n"
   ]
  },
  {
   "cell_type": "code",
   "execution_count": null,
   "id": "5bb8cd8c-6de8-41a7-9f6d-4da37f481ad8",
   "metadata": {},
   "outputs": [],
   "source": []
  },
  {
   "cell_type": "code",
   "execution_count": 54,
   "id": "ee501627-d23e-41f6-a085-211282af20d7",
   "metadata": {},
   "outputs": [
    {
     "name": "stdin",
     "output_type": "stream",
     "text": [
      "Enter some text:  A day after Azimio leader Raila Odinga threatened to move to court over the capitation for schools, Treasury has announced the release of Sh31.34 billion.  With schools set to reopen next week, Raila had accused the government of subjecting children and teachers to undue suffering by withholding the funds.  Out of the funds, Sh4.74 billion will go towards Free Primary Education while Sh7.60 billion being capitation for junior secondary schools for term one.  Some Sh2.80 billion is meant for school examination and invigilation fees whereas Sh16.20 has been factored in for Free Day Secondary School.  The release of the funding is now set to significantly lessen the huge pending bills which has already been incurred by learning institutions.  “We have tasked our MPs to push, and we also plan to go to court to force the Ministry of Education to release full capitation to both primary and secondary schools so that schools can start the year smoothly,” Raila said in his New Year message.  Raila had argued that secondary schools have only received half of the funds they are supposed to be getting.  He said failure to release the funds had interfered with the feeding programme and payment of non-teaching staff and purchase of equipment.  “The whereabouts of the other half of the money is unknown,” the opposition leader said in his New Year message sent to newsrooms.  “We believe some of this money is going to fictitious schools that have been created for purposes of embezzlement,” he added.  Last month, Education Cabinet Secretary Ezekiel Machogu announced the release of Sh3.9 billion as the first tranche of financing to cover scholarships for government-sponsored first-year students in public universities under the New Higher Education Funding Model.  The beneficiaries of the scholarships are those who successfully made their applications through the Higher Education Financing portal that was launched on August 31, 2023.\n"
     ]
    },
    {
     "name": "stdout",
     "output_type": "stream",
     "text": [
      "You entered: A day after Azimio leader Raila Odinga threatened to move to court over the capitation for schools, Treasury has announced the release of Sh31.34 billion.  With schools set to reopen next week, Raila had accused the government of subjecting children and teachers to undue suffering by withholding the funds.  Out of the funds, Sh4.74 billion will go towards Free Primary Education while Sh7.60 billion being capitation for junior secondary schools for term one.  Some Sh2.80 billion is meant for school examination and invigilation fees whereas Sh16.20 has been factored in for Free Day Secondary School.  The release of the funding is now set to significantly lessen the huge pending bills which has already been incurred by learning institutions.  “We have tasked our MPs to push, and we also plan to go to court to force the Ministry of Education to release full capitation to both primary and secondary schools so that schools can start the year smoothly,” Raila said in his New Year message.  Raila had argued that secondary schools have only received half of the funds they are supposed to be getting.  He said failure to release the funds had interfered with the feeding programme and payment of non-teaching staff and purchase of equipment.  “The whereabouts of the other half of the money is unknown,” the opposition leader said in his New Year message sent to newsrooms.  “We believe some of this money is going to fictitious schools that have been created for purposes of embezzlement,” he added.  Last month, Education Cabinet Secretary Ezekiel Machogu announced the release of Sh3.9 billion as the first tranche of financing to cover scholarships for government-sponsored first-year students in public universities under the New Higher Education Funding Model.  The beneficiaries of the scholarships are those who successfully made their applications through the Higher Education Financing portal that was launched on August 31, 2023.\n"
     ]
    }
   ],
   "source": [
    "# Run this cell to create a text input box\n",
    "user_input = input(\"Enter some text: \")\n",
    "print(\"You entered:\", user_input)\n"
   ]
  },
  {
   "cell_type": "code",
   "execution_count": 55,
   "id": "878907f6-6f17-4e79-aec0-f9cb004af961",
   "metadata": {},
   "outputs": [
    {
     "name": "stdout",
     "output_type": "stream",
     "text": [
      "['australia tighten airport secur foil attack sydney reuter australia introduc random search worker enter insid airport increas secur recent foil terror plot offici said measur strengthen exist control ensur airport worker author properli identifi appropri train enter secur airsid area minist infrastructur transport darren chester said statement sunday may also subject secur screen cours duti airport secur tighten juli polic foil islam inspir plan bomb attack emir flight sydney polic said arrest four men citi wide raid juli one day earlier allegedli tri bring improvis explos devic flight devic allow aboard exceed baggag weight limit extra screen hand check luggag sinc incid led travel delay around countri measur obviou public prime minist malcolm turnbul said time council australian govern earlier month sign facial biometr agreement give state feder polic real time access passport visa citizenship driver licens imag crimin investig includ involv suspect terrorist prime minist deni agreement big brother style mass surveil logic next step altern use data told abc program infrastructur minist offic respond sunday ask latest measur would take effect said would roll provid flexibl airport ensur continu function effici effect'\n",
      " 'michigan treasur call quick action detroit school bill reuter michigan treasur nick khouri urg state lawmak tuesday move quickli legisl restructur financi ail detroit public school dp district run money sometim spring earli summer unless legisl pass form district abl make payrol abl pay vendor essenti cash khouri told michigan senat govern oper committe committe hold hear month bill support republican governor rick snyder creat two entiti detroit commun district run school current detroit public school retir debt khouri said legisl present better option dp michigan bankruptci would make sens given much district debt owe state ad bankruptci could also take year cost much million unlik citi detroit bankruptci dp file would put state hook billion year pay bond issu dp michigan school bond loan fund accord written testimoni khouri submit committe governor plan new commun school district would provid million addit state fund year offset local properti tax would tap old district pay debt anoth million dp pension debt could shift onto school district state wide teacher retir system detroit exit biggest ever municip bankruptci decemb shed billion billion debt senat committe continu hear legisl next week also heard teacher union offici parent contend michigan respons pay debt accumul dp sinc place state oversight also call elect board control school legisl would creat financi oversight commiss district'\n",
      " 'socialist berni sander ask trump pick educ sec agre free colleg get embarrass public smack video besti devo trump conserv choic educ secretari confirm process leftist berni sander import question absolut noth provid kid best educ possibl sander one burn question betsi devo els give american someth free betsi devo answer berni perfect'\n",
      " ...\n",
      " 'million fraudul invalid voter registr alreadi found sara sosa die cast ballot week liber repeat frequent claim voter fraud exist recent salon articl argu voter fraud problem pennsylvania despit evid contrari anoth articl argu voter fraud entir imagin use voter id law deni minor right vote yet elect approach case voter fraud begin surfac colorado multipl instanc found dead peopl attempt vote stunningli woman name sara sosa die cast ballot virginia found nearli voter applic turn name dead peopl texa author investig crimin use techniqu vote harvest illeg procur vote candid harvest practic illeg obtain signatur valid voter order vote name without consent candid crimin support instanc voter fraud know would silli assum case discov case fraud inde accord pew research report februari one eight voter registr significantli inaccur longer valid sinc million american regist vote translat stun million invalid voter registr book million deceas individu list voter approxim million peopl registr one state number scale obvious provid ripe opportun fraud let data contradict narr yet spite report brennan center new york univers claim voter fraud myth argu north carolina pass comprehens measur prevent voter fraud fail identifi even singl individu ever charg commit person voter fraud north carolina howev faulti reason point lack person voter fraud rather lack enforc mechan identifi prosecut person voter fraud scienc crimin justic tell us mani crime go unreport victimless crime happen fact person attempt commit voter fraud unlik caught increas incent commit crime nation crime victim survey ncv sophist comprehens effort catalog number type crime report law enforc author howev tend deal mostli violent crime complex ncv gather accur data unreport victimless crime voter fraud even harder sinc outsid crimin one may know crime taken place direct victim report crime first place yet expect believ unlik violent crime voter fraud limit case actual report prosecut senseless posit brennan center report argu prosecutor kri kobach review million vote cast state found instanc fraud refer prosecut amount percent fraud rate voter fraud statist small non issu let follow logic fact peopl cite jaywalk seattl mean peopl jaywalk seattl year fact peopl cite drive without seatbelt tennesse mean mani peopl drive without seatbelt tennesse absolut proven easili previou year peopl cite dispar larg due increas enforc effort word increas enforc crime reveal much larger number peopl commit crime exact true voter fraud reason believ low number prosecut mean exact amount voter fraud happen rather could mean lack enforc fail reveal bulk violat occur thu mani type crime especi victimless crime real number case like significantli higher number report effect target voter fraud know voter fraud seriou issu solut problem state like michigan poll challeng program observ parti may present voter check tabl precinct check voter id databas regist voter precinct ensur person attempt vote actual legal qualifi vote precinct discrep poll challeng may offici challeng ballot state implement similar program read fox'\n",
      " 'bombshel new evid show hillari ignor pentagon urgent offer help benghazi consul video hillari lie time import e mail recent obtain judici watch show pentagon demand secretari state hillari clinton allow send help benghazi attack would complet contradict claim hillari leon panetta forc avail within reach provid help compound sieg attack u consul benghazi unfold high rank pentagon offici urgent messag secretari state hillari clinton top deputi offer militari help accord email obtain judici watch revel appear contradict testimoni defens secretari leon panetta gave lawmak said time get forc scene libya four american kill includ u ambassador libya christoph steven tri phone appar refer secretari state hillari clinton read email panetta chief staff jeremi bash consult gener dempsey gener ham joint staff identifi forc could move benghazi spin speak iron hillari clinton minion concern spin stori instead gear militari forc email sent p et sept earli stage eight hour sieg also claim live foreign servic inform manag offic sean smith two former navi seal ty wood glen doherti privat cia contractor race aid embattl state depart worker although email came first wave attack consul occur mortar strike cia annex kill wood doherti leav doubt militari asset offer readi go await state depart signoff come judici watch nonprofit govern watchdog said statement part email bash redact releas includ detail militari forc avail want know forc like avail listen read account ex special forc member explain bryan suit dark secret place popular radio show lo angel interview novemb explain panetta claim lie describ cif stand command extremi forc could sent benghazi cif heretofor littl known american option probabl never heard secret per se public much cif call someth avail everi theater command cif us armi special forc soldier specif dedic prepar time month end leav notic littl inform move air whatev vehicl situat determin best immedi solut oftentim get air absolut idea go mission oftentim brief air entir purpos cif extrem wors case someth happen right hour get delta forc someth happen right forc cif pre posit drop hat go anywher anyth time explain anger mani peopl special oper commun awar cif explain panetta lie enough time send bottom line presid option leon panetta said real time inform leon panetta say thursday know lie known week predat drone orbit benghazi consul us forc sent place less inform ye person vouch sent place initi mission find go principl deploy peopl without inform panetta hillari lie american public media never press enough demand answer inform avail sinc month attack testimoni whistleblow gregori hick'\n",
      " 'break megyn kelli interview parent fake black rachel dolez video whole public nightmar must heartbreak parent h weasel zipper']\n"
     ]
    },
    {
     "data": {
      "text/plain": [
       "(44898,)"
      ]
     },
     "execution_count": 55,
     "metadata": {},
     "output_type": "execute_result"
    }
   ],
   "source": [
    "X = news_df['content'].values\n",
    "print(X)\n",
    "X.shape"
   ]
  },
  {
   "cell_type": "code",
   "execution_count": 56,
   "id": "39743f48-68ed-4890-9016-e8232dd10158",
   "metadata": {},
   "outputs": [
    {
     "name": "stdin",
     "output_type": "stream",
     "text": [
      "Enter some text:  A day after Azimio leader Raila Odinga threatened to move to court over the capitation for schools, Treasury has announced the release of Sh31.34 billion.  With schools set to reopen next week, Raila had accused the government of subjecting children and teachers to undue suffering by withholding the funds.  Out of the funds, Sh4.74 billion will go towards Free Primary Education while Sh7.60 billion being capitation for junior secondary schools for term one.  Some Sh2.80 billion is meant for school examination and invigilation fees whereas Sh16.20 has been factored in for Free Day Secondary School.  The release of the funding is now set to significantly lessen the huge pending bills which has already been incurred by learning institutions.  “We have tasked our MPs to push, and we also plan to go to court to force the Ministry of Education to release full capitation to both primary and secondary schools so that schools can start the year smoothly,” Raila said in his New Year message.  Raila had argued that secondary schools have only received half of the funds they are supposed to be getting.  He said failure to release the funds had interfered with the feeding programme and payment of non-teaching staff and purchase of equipment.  “The whereabouts of the other half of the money is unknown,” the opposition leader said in his New Year message sent to newsrooms.  “We believe some of this money is going to fictitious schools that have been created for purposes of embezzlement,” he added.  Last month, Education Cabinet Secretary Ezekiel Machogu announced the release of Sh3.9 billion as the first tranche of financing to cover scholarships for government-sponsored first-year students in public universities under the New Higher Education Funding Model.  The beneficiaries of the scholarships are those who successfully made their applications through the Higher Education Financing portal that was launched on August 31, 2023.\n"
     ]
    },
    {
     "ename": "NotFittedError",
     "evalue": "The TF-IDF vectorizer is not fitted",
     "output_type": "error",
     "traceback": [
      "\u001b[1;31m---------------------------------------------------------------------------\u001b[0m",
      "\u001b[1;31mNotFittedError\u001b[0m                            Traceback (most recent call last)",
      "Cell \u001b[1;32mIn[56], line 35\u001b[0m\n\u001b[0;32m     32\u001b[0m user_input_stemmed \u001b[38;5;241m=\u001b[39m stemming(user_input)\n\u001b[0;32m     34\u001b[0m \u001b[38;5;66;03m# Transform the stemmed user input using the pre-fitted vectorizer\u001b[39;00m\n\u001b[1;32m---> 35\u001b[0m user_input_transformed \u001b[38;5;241m=\u001b[39m \u001b[43mvectorizer\u001b[49m\u001b[38;5;241;43m.\u001b[39;49m\u001b[43mtransform\u001b[49m\u001b[43m(\u001b[49m\u001b[43m[\u001b[49m\u001b[43muser_input_stemmed\u001b[49m\u001b[43m]\u001b[49m\u001b[43m)\u001b[49m\n\u001b[0;32m     37\u001b[0m \u001b[38;5;66;03m# Use the trained model to make a prediction\u001b[39;00m\n\u001b[0;32m     38\u001b[0m prediction \u001b[38;5;241m=\u001b[39m model\u001b[38;5;241m.\u001b[39mpredict(user_input_transformed)\n",
      "File \u001b[1;32mC:\\anaconda3\\envs\\Fake_News_Detector\\lib\\site-packages\\sklearn\\feature_extraction\\text.py:2161\u001b[0m, in \u001b[0;36mTfidfVectorizer.transform\u001b[1;34m(self, raw_documents)\u001b[0m\n\u001b[0;32m   2145\u001b[0m \u001b[38;5;28;01mdef\u001b[39;00m \u001b[38;5;21mtransform\u001b[39m(\u001b[38;5;28mself\u001b[39m, raw_documents):\n\u001b[0;32m   2146\u001b[0m \u001b[38;5;250m    \u001b[39m\u001b[38;5;124;03m\"\"\"Transform documents to document-term matrix.\u001b[39;00m\n\u001b[0;32m   2147\u001b[0m \n\u001b[0;32m   2148\u001b[0m \u001b[38;5;124;03m    Uses the vocabulary and document frequencies (df) learned by fit (or\u001b[39;00m\n\u001b[1;32m   (...)\u001b[0m\n\u001b[0;32m   2159\u001b[0m \u001b[38;5;124;03m        Tf-idf-weighted document-term matrix.\u001b[39;00m\n\u001b[0;32m   2160\u001b[0m \u001b[38;5;124;03m    \"\"\"\u001b[39;00m\n\u001b[1;32m-> 2161\u001b[0m     \u001b[43mcheck_is_fitted\u001b[49m\u001b[43m(\u001b[49m\u001b[38;5;28;43mself\u001b[39;49m\u001b[43m,\u001b[49m\u001b[43m \u001b[49m\u001b[43mmsg\u001b[49m\u001b[38;5;241;43m=\u001b[39;49m\u001b[38;5;124;43m\"\u001b[39;49m\u001b[38;5;124;43mThe TF-IDF vectorizer is not fitted\u001b[39;49m\u001b[38;5;124;43m\"\u001b[39;49m\u001b[43m)\u001b[49m\n\u001b[0;32m   2163\u001b[0m     X \u001b[38;5;241m=\u001b[39m \u001b[38;5;28msuper\u001b[39m()\u001b[38;5;241m.\u001b[39mtransform(raw_documents)\n\u001b[0;32m   2164\u001b[0m     \u001b[38;5;28;01mreturn\u001b[39;00m \u001b[38;5;28mself\u001b[39m\u001b[38;5;241m.\u001b[39m_tfidf\u001b[38;5;241m.\u001b[39mtransform(X, copy\u001b[38;5;241m=\u001b[39m\u001b[38;5;28;01mFalse\u001b[39;00m)\n",
      "File \u001b[1;32mC:\\anaconda3\\envs\\Fake_News_Detector\\lib\\site-packages\\sklearn\\utils\\validation.py:1461\u001b[0m, in \u001b[0;36mcheck_is_fitted\u001b[1;34m(estimator, attributes, msg, all_or_any)\u001b[0m\n\u001b[0;32m   1458\u001b[0m     \u001b[38;5;28;01mraise\u001b[39;00m \u001b[38;5;167;01mTypeError\u001b[39;00m(\u001b[38;5;124m\"\u001b[39m\u001b[38;5;132;01m%s\u001b[39;00m\u001b[38;5;124m is not an estimator instance.\u001b[39m\u001b[38;5;124m\"\u001b[39m \u001b[38;5;241m%\u001b[39m (estimator))\n\u001b[0;32m   1460\u001b[0m \u001b[38;5;28;01mif\u001b[39;00m \u001b[38;5;129;01mnot\u001b[39;00m _is_fitted(estimator, attributes, all_or_any):\n\u001b[1;32m-> 1461\u001b[0m     \u001b[38;5;28;01mraise\u001b[39;00m NotFittedError(msg \u001b[38;5;241m%\u001b[39m {\u001b[38;5;124m\"\u001b[39m\u001b[38;5;124mname\u001b[39m\u001b[38;5;124m\"\u001b[39m: \u001b[38;5;28mtype\u001b[39m(estimator)\u001b[38;5;241m.\u001b[39m\u001b[38;5;18m__name__\u001b[39m})\n",
      "\u001b[1;31mNotFittedError\u001b[0m: The TF-IDF vectorizer is not fitted"
     ]
    }
   ],
   "source": [
    "import pandas as pd\n",
    "from nltk.corpus import stopwords\n",
    "from nltk.stem.porter import PorterStemmer\n",
    "from sklearn.feature_extraction.text import TfidfVectorizer\n",
    "import re\n",
    "\n",
    "# Define stemming function\n",
    "ps = PorterStemmer()\n",
    "\n",
    "def stemming(content):\n",
    "    stemmed_content = re.sub('[^a-zA-Z]', ' ', content)\n",
    "    stemmed_content = stemmed_content.lower()\n",
    "    stemmed_content = stemmed_content.split()\n",
    "    stemmed_content = [ps.stem(word) for word in stemmed_content if word not in stopwords.words('english')]\n",
    "    stemmed_content = \" \".join(stemmed_content)\n",
    "    return stemmed_content\n",
    "\n",
    "# Assuming X is your original data\n",
    "X = news_df['content'].values\n",
    "# Create and fit the vectorizer\n",
    "vectorizer = TfidfVectorizer()\n",
    "vector.fit(X)\n",
    "X = vector.transform(X)\n",
    "\n",
    "\n",
    "# vectorizer.fit(X)  # Uncomment this line and replace X with your actual data\n",
    "\n",
    "# Run this cell to create a text input box\n",
    "user_input = input(\"Enter some text: \")\n",
    "\n",
    "# Apply stemming to the user input\n",
    "user_input_stemmed = stemming(user_input)\n",
    "\n",
    "# Transform the stemmed user input using the pre-fitted vectorizer\n",
    "user_input_transformed = vectorizer.transform([user_input_stemmed])\n",
    "\n",
    "# Use the trained model to make a prediction\n",
    "prediction = model.predict(user_input_transformed)\n",
    "\n",
    "# Print the result\n",
    "if prediction[0] == 0:\n",
    "    print(\"This piece of news is predicted to be Fake.\")\n",
    "else:\n",
    "    print(\"This piece of news is predicted to be True.\")"
   ]
  },
  {
   "cell_type": "code",
   "execution_count": null,
   "id": "eeba0178-71bd-49fa-ba03-52fe27a9dad2",
   "metadata": {},
   "outputs": [],
   "source": [
    "import pandas as pd\n",
    "from nltk.corpus import stopwords\n",
    "from nltk.stem.porter import PorterStemmer\n",
    "from sklearn.feature_extraction.text import TfidfVectorizer\n",
    "import re\n",
    "\n",
    "# Define stemming function\n",
    "ps = PorterStemmer()\n",
    "\n",
    "def stemming(content):\n",
    "    stemmed_content = re.sub('[^a-zA-Z]', ' ', content)\n",
    "    stemmed_content = stemmed_content.lower()\n",
    "    stemmed_content = stemmed_content.split()\n",
    "    stemmed_content = [ps.stem(word) for word in stemmed_content if word not in stopwords.words('english')]\n",
    "    stemmed_content = \" \".join(stemmed_content)\n",
    "    return stemmed_content\n",
    "\n",
    "# Assuming X is your original data\n",
    "X = news_df['content'].tolist()\n",
    "\n",
    "# Create and fit the vectorizer\n",
    "vectorizer = TfidfVectorizer()\n",
    "vectorizer.fit(X)\n",
    "\n",
    "# Run this cell to create a text input box\n",
    "user_input = input(\"Enter some text: \")\n",
    "\n",
    "# Apply stemming to the user input\n",
    "user_input_stemmed = stemming(user_input)\n",
    "\n",
    "# Transform the stemmed user input using the pre-fitted vectorizer\n",
    "user_input_transformed = vectorizer.transform([user_input_stemmed])\n",
    "\n",
    "# Use the trained model to make a prediction\n",
    "pred_lr = LR.predict(user_input_transformed)\n",
    "\n",
    "if pred_lr[0] == 0:\n",
    "    print(\"This piece of news is predicted to be Fake.\")\n",
    "else:\n",
    "    print(\"This piece of news is predicted to be True.\")\n"
   ]
  },
  {
   "cell_type": "code",
   "execution_count": 86,
   "id": "83ca0490-2826-4780-a320-c0d15642420c",
   "metadata": {},
   "outputs": [
    {
     "name": "stdin",
     "output_type": "stream",
     "text": [
      "Enter some text:  This is actually very true news You have to believe it Rwanda president threatens to take on Nairobi in new row with the Kenyan govt.\n"
     ]
    },
    {
     "name": "stdout",
     "output_type": "stream",
     "text": [
      "\u001b[91mThis piece of news is predicted to be Fake.\u001b[0m\n"
     ]
    }
   ],
   "source": [
    "import pandas as pd\n",
    "from nltk.corpus import stopwords\n",
    "from nltk.stem.porter import PorterStemmer\n",
    "from sklearn.feature_extraction.text import TfidfVectorizer\n",
    "import re\n",
    "\n",
    "# Define stemming function\n",
    "ps = PorterStemmer()\n",
    "\n",
    "def stemming(content):\n",
    "    stemmed_content = re.sub('[^a-zA-Z]', ' ', content)\n",
    "    stemmed_content = stemmed_content.lower()\n",
    "    stemmed_content = stemmed_content.split()\n",
    "    stemmed_content = [ps.stem(word) for word in stemmed_content if word not in stopwords.words('english')]\n",
    "    stemmed_content = \" \".join(stemmed_content)\n",
    "    return stemmed_content\n",
    "\n",
    "# Assuming X is your original data\n",
    "X = news_df['content'].tolist()\n",
    "\n",
    "# Create and fit the vectorizer\n",
    "vectorizer = TfidfVectorizer()\n",
    "vectorizer.fit(X)\n",
    "\n",
    "# Run this cell to create a text input box\n",
    "user_input = input(\"Enter some text: \")\n",
    "\n",
    "# Apply stemming to the user input\n",
    "user_input_stemmed = stemming(user_input)\n",
    "\n",
    "# Transform the stemmed user input using the pre-fitted vectorizer\n",
    "user_input_transformed = vectorizer.transform([user_input_stemmed])\n",
    "\n",
    "# Use the trained model to make a prediction\n",
    "pred_lr = LR.predict(user_input_transformed)\n",
    "\n",
    "# Define ANSI escape codes for colors\n",
    "light_red = \"\\033[91m\"\n",
    "light_green = \"\\033[92m\"\n",
    "reset_color = \"\\033[0m\"\n",
    "\n",
    "# Format output based on prediction\n",
    "if pred_lr[0] == 0:\n",
    "    print(light_red + \"This piece of news is predicted to be Fake.\" + reset_color)\n",
    "else:\n",
    "    print(light_green + \"This piece of news is predicted to be True.\" + reset_color)"
   ]
  },
  {
   "cell_type": "code",
   "execution_count": null,
   "id": "5ae15322-376f-4607-b7b8-e9b609d5df77",
   "metadata": {},
   "outputs": [],
   "source": []
  },
  {
   "cell_type": "code",
   "execution_count": null,
   "id": "c3c2ab21-4c5e-4707-83c5-e7a987a30f91",
   "metadata": {},
   "outputs": [],
   "source": []
  },
  {
   "cell_type": "code",
   "execution_count": null,
   "id": "5c12d0bb-6ab8-47ff-ad4c-85de4f0c6d04",
   "metadata": {},
   "outputs": [],
   "source": []
  },
  {
   "cell_type": "code",
   "execution_count": null,
   "id": "29c79be0-d6af-429d-86b9-40f7ce834653",
   "metadata": {},
   "outputs": [],
   "source": []
  },
  {
   "cell_type": "code",
   "execution_count": null,
   "id": "dd28e2f7-f1e9-489b-897b-ebaf121d4942",
   "metadata": {},
   "outputs": [],
   "source": []
  },
  {
   "cell_type": "code",
   "execution_count": null,
   "id": "9e72559a-3816-4356-b3fd-5d52c8e4f364",
   "metadata": {},
   "outputs": [],
   "source": []
  },
  {
   "cell_type": "code",
   "execution_count": null,
   "id": "0db8bc85-edac-411f-aa3f-31486cc4dfe5",
   "metadata": {},
   "outputs": [],
   "source": []
  },
  {
   "cell_type": "code",
   "execution_count": null,
   "id": "de2f2c52-92c5-45f9-a9ba-012abf185cdf",
   "metadata": {},
   "outputs": [],
   "source": []
  },
  {
   "cell_type": "code",
   "execution_count": null,
   "id": "d27edad4-d0ce-46e2-bd7c-2d45c7f147a3",
   "metadata": {},
   "outputs": [],
   "source": []
  },
  {
   "cell_type": "code",
   "execution_count": null,
   "id": "fae45740-6c37-4b95-9962-a19281d9e14e",
   "metadata": {},
   "outputs": [],
   "source": [
    "print(X[4159])"
   ]
  },
  {
   "cell_type": "code",
   "execution_count": null,
   "id": "0c090f23-59cd-4347-b98a-94bfc66d8426",
   "metadata": {},
   "outputs": [],
   "source": []
  }
 ],
 "metadata": {
  "kernelspec": {
   "display_name": "Python 3 (ipykernel)",
   "language": "python",
   "name": "python3"
  },
  "language_info": {
   "codemirror_mode": {
    "name": "ipython",
    "version": 3
   },
   "file_extension": ".py",
   "mimetype": "text/x-python",
   "name": "python",
   "nbconvert_exporter": "python",
   "pygments_lexer": "ipython3",
   "version": "3.9.18"
  }
 },
 "nbformat": 4,
 "nbformat_minor": 5
}
